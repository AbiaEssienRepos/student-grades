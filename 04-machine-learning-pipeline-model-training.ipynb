{
 "cells": [
  {
   "cell_type": "markdown",
   "id": "1b24aa2e-45d5-4c7a-b116-0b183446b8d1",
   "metadata": {},
   "source": [
    "# Machine Learning Pipeline - Model Training\n",
    "\n",
    "In the following notebooks, we will go through the implementation of each of the steps in the Machine Learning Pipeline.\n",
    "\n",
    "We will discuss:\n",
    "\n",
    "1. Data Analysis\n",
    "2. Feature Engineering\n",
    "3. Feature Selection\n",
    "4. **Model Training**\n",
    "5. Obtaining Predictions / Scoring"
   ]
  },
  {
   "cell_type": "code",
   "execution_count": 1,
   "id": "075f066d-66e4-42bb-8381-0788354d2412",
   "metadata": {},
   "outputs": [],
   "source": [
    "# to handle datasets\n",
    "import pandas as pd\n",
    "import numpy as np\n",
    "\n",
    "# for plotting\n",
    "import matplotlib.pyplot as plt\n",
    "import seaborn as sns\n",
    "sns.set_style('darkgrid')\n",
    "\n",
    "# to save the model\n",
    "import joblib\n",
    "\n",
    "# to build the model\n",
    "from sklearn.linear_model import Lasso, LinearRegression\n",
    "\n",
    "# to evaluate the model\n",
    "from sklearn.metrics import mean_squared_error, r2_score\n",
    "\n",
    "# to scale the features\n",
    "from sklearn.preprocessing import MinMaxScaler\n",
    "\n",
    "# to visualise all the columns in the dataframe\n",
    "pd.pandas.set_option('display.max_columns', None)"
   ]
  },
  {
   "cell_type": "code",
   "execution_count": 2,
   "id": "210e349e-7382-45f3-a66f-2f662ca23563",
   "metadata": {},
   "outputs": [],
   "source": [
    "# load the train and test set with the engineered variables\n",
    "X_train = pd.read_csv('xtrain_unscaled.csv')\n",
    "X_test = pd.read_csv('xtest_unscaled.csv')"
   ]
  },
  {
   "cell_type": "code",
   "execution_count": 3,
   "id": "d7bc5ac3-7284-43b6-b0fb-25e4ca38121a",
   "metadata": {},
   "outputs": [],
   "source": [
    "# drop the rank feature as it is unneeded by the model\n",
    "X_train = X_train.drop('rank',axis=1)"
   ]
  },
  {
   "cell_type": "code",
   "execution_count": 4,
   "id": "9e928505-566c-4ca5-a113-21a9adf7ca3b",
   "metadata": {},
   "outputs": [],
   "source": [
    "# load the target\n",
    "y_train = pd.read_csv('ytrain.csv')\n",
    "y_test = pd.read_csv('ytest.csv')"
   ]
  },
  {
   "cell_type": "code",
   "execution_count": 5,
   "id": "13cbfd63-89a9-4238-af21-172a187b86b7",
   "metadata": {},
   "outputs": [
    {
     "data": {
      "text/plain": [
       "['address_U',\n",
       " 'schoolsup_yes',\n",
       " 'higher_yes',\n",
       " 'age',\n",
       " 'Medu',\n",
       " 'Fedu',\n",
       " 'Mjob',\n",
       " 'Fjob',\n",
       " 'guardian',\n",
       " 'traveltime',\n",
       " 'studytime',\n",
       " 'failures']"
      ]
     },
     "execution_count": 5,
     "metadata": {},
     "output_type": "execute_result"
    }
   ],
   "source": [
    "# load the pre-selected features\n",
    "features = pd.read_csv('selected_features.csv')\n",
    "features = features['0'].to_list()\n",
    "\n",
    "# display the final feature set\n",
    "features "
   ]
  },
  {
   "cell_type": "code",
   "execution_count": 6,
   "id": "2ff5ddf4-591e-453d-a1f8-55db3ac8dfca",
   "metadata": {},
   "outputs": [
    {
     "data": {
      "text/plain": [
       "['reason',\n",
       " 'famrel',\n",
       " 'freetime',\n",
       " 'goout',\n",
       " 'Dalc',\n",
       " 'Walc',\n",
       " 'health',\n",
       " 'absences',\n",
       " 'school_MS',\n",
       " 'sex_M',\n",
       " 'famsize_LE3',\n",
       " 'Pstatus_T',\n",
       " 'famsup_yes',\n",
       " 'paid_yes',\n",
       " 'activities_yes',\n",
       " 'nursery_yes',\n",
       " 'internet_yes',\n",
       " 'romantic_yes']"
      ]
     },
     "execution_count": 6,
     "metadata": {},
     "output_type": "execute_result"
    }
   ],
   "source": [
    "[feat for feat in X_train.columns if feat not in features]"
   ]
  },
  {
   "cell_type": "code",
   "execution_count": 7,
   "id": "8716923a-3f2f-4c75-b873-d5ced09c6b68",
   "metadata": {},
   "outputs": [],
   "source": [
    "# reduce the train and test set to the selected features\n",
    "X_train = X_train[features]\n",
    "X_test = X_test[features]"
   ]
  },
  {
   "cell_type": "markdown",
   "id": "12dbf2e6-76e0-47fb-818c-5c020425030e",
   "metadata": {},
   "source": [
    "# Feature Scaling"
   ]
  },
  {
   "cell_type": "code",
   "execution_count": 8,
   "id": "ed49a753-b5c3-4798-8357-b6e572e64655",
   "metadata": {},
   "outputs": [],
   "source": [
    "# list out the features to be scaled\n",
    "scaled = ['age','Medu','Fedu','Mjob','Fjob','guardian','traveltime','studytime','failures']"
   ]
  },
  {
   "cell_type": "markdown",
   "id": "27d8af3b-ac57-42a9-a7c3-56e368b79fb3",
   "metadata": {},
   "source": [
    "Notice the large difference between the scale of the age variables and the other variables:"
   ]
  },
  {
   "cell_type": "code",
   "execution_count": 9,
   "id": "45eddaa2-985e-487c-8807-f51fe8f16034",
   "metadata": {},
   "outputs": [
    {
     "data": {
      "text/html": [
       "<div>\n",
       "<style scoped>\n",
       "    .dataframe tbody tr th:only-of-type {\n",
       "        vertical-align: middle;\n",
       "    }\n",
       "\n",
       "    .dataframe tbody tr th {\n",
       "        vertical-align: top;\n",
       "    }\n",
       "\n",
       "    .dataframe thead th {\n",
       "        text-align: right;\n",
       "    }\n",
       "</style>\n",
       "<table border=\"1\" class=\"dataframe\">\n",
       "  <thead>\n",
       "    <tr style=\"text-align: right;\">\n",
       "      <th></th>\n",
       "      <th>age</th>\n",
       "      <th>Medu</th>\n",
       "      <th>Fedu</th>\n",
       "      <th>Mjob</th>\n",
       "      <th>Fjob</th>\n",
       "      <th>guardian</th>\n",
       "      <th>traveltime</th>\n",
       "      <th>studytime</th>\n",
       "      <th>failures</th>\n",
       "    </tr>\n",
       "  </thead>\n",
       "  <tbody>\n",
       "    <tr>\n",
       "      <th>count</th>\n",
       "      <td>276.000000</td>\n",
       "      <td>276.00000</td>\n",
       "      <td>276.000000</td>\n",
       "      <td>276.000000</td>\n",
       "      <td>276.000000</td>\n",
       "      <td>276.000000</td>\n",
       "      <td>276.000000</td>\n",
       "      <td>276.000000</td>\n",
       "      <td>276.000000</td>\n",
       "    </tr>\n",
       "    <tr>\n",
       "      <th>mean</th>\n",
       "      <td>16.695652</td>\n",
       "      <td>2.73913</td>\n",
       "      <td>2.539855</td>\n",
       "      <td>3.677536</td>\n",
       "      <td>4.282609</td>\n",
       "      <td>2.594203</td>\n",
       "      <td>1.456522</td>\n",
       "      <td>2.028986</td>\n",
       "      <td>0.322464</td>\n",
       "    </tr>\n",
       "    <tr>\n",
       "      <th>std</th>\n",
       "      <td>1.293951</td>\n",
       "      <td>1.08077</td>\n",
       "      <td>1.079666</td>\n",
       "      <td>1.290949</td>\n",
       "      <td>1.054784</td>\n",
       "      <td>0.662092</td>\n",
       "      <td>0.699294</td>\n",
       "      <td>0.830702</td>\n",
       "      <td>0.704016</td>\n",
       "    </tr>\n",
       "    <tr>\n",
       "      <th>min</th>\n",
       "      <td>15.000000</td>\n",
       "      <td>0.00000</td>\n",
       "      <td>1.000000</td>\n",
       "      <td>1.000000</td>\n",
       "      <td>1.000000</td>\n",
       "      <td>1.000000</td>\n",
       "      <td>1.000000</td>\n",
       "      <td>1.000000</td>\n",
       "      <td>0.000000</td>\n",
       "    </tr>\n",
       "    <tr>\n",
       "      <th>25%</th>\n",
       "      <td>16.000000</td>\n",
       "      <td>2.00000</td>\n",
       "      <td>2.000000</td>\n",
       "      <td>3.000000</td>\n",
       "      <td>4.000000</td>\n",
       "      <td>2.000000</td>\n",
       "      <td>1.000000</td>\n",
       "      <td>1.000000</td>\n",
       "      <td>0.000000</td>\n",
       "    </tr>\n",
       "    <tr>\n",
       "      <th>50%</th>\n",
       "      <td>17.000000</td>\n",
       "      <td>3.00000</td>\n",
       "      <td>3.000000</td>\n",
       "      <td>4.000000</td>\n",
       "      <td>5.000000</td>\n",
       "      <td>3.000000</td>\n",
       "      <td>1.000000</td>\n",
       "      <td>2.000000</td>\n",
       "      <td>0.000000</td>\n",
       "    </tr>\n",
       "    <tr>\n",
       "      <th>75%</th>\n",
       "      <td>18.000000</td>\n",
       "      <td>4.00000</td>\n",
       "      <td>3.000000</td>\n",
       "      <td>5.000000</td>\n",
       "      <td>5.000000</td>\n",
       "      <td>3.000000</td>\n",
       "      <td>2.000000</td>\n",
       "      <td>2.000000</td>\n",
       "      <td>0.000000</td>\n",
       "    </tr>\n",
       "    <tr>\n",
       "      <th>max</th>\n",
       "      <td>22.000000</td>\n",
       "      <td>4.00000</td>\n",
       "      <td>4.000000</td>\n",
       "      <td>5.000000</td>\n",
       "      <td>5.000000</td>\n",
       "      <td>3.000000</td>\n",
       "      <td>4.000000</td>\n",
       "      <td>4.000000</td>\n",
       "      <td>3.000000</td>\n",
       "    </tr>\n",
       "  </tbody>\n",
       "</table>\n",
       "</div>"
      ],
      "text/plain": [
       "              age       Medu        Fedu        Mjob        Fjob    guardian  \\\n",
       "count  276.000000  276.00000  276.000000  276.000000  276.000000  276.000000   \n",
       "mean    16.695652    2.73913    2.539855    3.677536    4.282609    2.594203   \n",
       "std      1.293951    1.08077    1.079666    1.290949    1.054784    0.662092   \n",
       "min     15.000000    0.00000    1.000000    1.000000    1.000000    1.000000   \n",
       "25%     16.000000    2.00000    2.000000    3.000000    4.000000    2.000000   \n",
       "50%     17.000000    3.00000    3.000000    4.000000    5.000000    3.000000   \n",
       "75%     18.000000    4.00000    3.000000    5.000000    5.000000    3.000000   \n",
       "max     22.000000    4.00000    4.000000    5.000000    5.000000    3.000000   \n",
       "\n",
       "       traveltime   studytime    failures  \n",
       "count  276.000000  276.000000  276.000000  \n",
       "mean     1.456522    2.028986    0.322464  \n",
       "std      0.699294    0.830702    0.704016  \n",
       "min      1.000000    1.000000    0.000000  \n",
       "25%      1.000000    1.000000    0.000000  \n",
       "50%      1.000000    2.000000    0.000000  \n",
       "75%      2.000000    2.000000    0.000000  \n",
       "max      4.000000    4.000000    3.000000  "
      ]
     },
     "execution_count": 9,
     "metadata": {},
     "output_type": "execute_result"
    }
   ],
   "source": [
    "X_train[scaled].describe()"
   ]
  },
  {
   "cell_type": "code",
   "execution_count": 10,
   "id": "409eefa9-4149-46a0-bf56-ecda76f3ba1b",
   "metadata": {},
   "outputs": [],
   "source": [
    "# load the scaler object\n",
    "scaler = MinMaxScaler()\n",
    "\n",
    "# fit the train set\n",
    "scaler.fit(X_train[scaled])\n",
    "\n",
    "# transform the train and test set\n",
    "X_train[scaled] = scaler.transform(X_train[scaled])\n",
    "X_test[scaled] = scaler.transform(X_test[scaled])"
   ]
  },
  {
   "cell_type": "code",
   "execution_count": 11,
   "id": "587a67d1-6db8-4c27-a0a2-4002b8af2162",
   "metadata": {},
   "outputs": [
    {
     "data": {
      "text/html": [
       "<div>\n",
       "<style scoped>\n",
       "    .dataframe tbody tr th:only-of-type {\n",
       "        vertical-align: middle;\n",
       "    }\n",
       "\n",
       "    .dataframe tbody tr th {\n",
       "        vertical-align: top;\n",
       "    }\n",
       "\n",
       "    .dataframe thead th {\n",
       "        text-align: right;\n",
       "    }\n",
       "</style>\n",
       "<table border=\"1\" class=\"dataframe\">\n",
       "  <thead>\n",
       "    <tr style=\"text-align: right;\">\n",
       "      <th></th>\n",
       "      <th>age</th>\n",
       "      <th>Medu</th>\n",
       "      <th>Fedu</th>\n",
       "      <th>Mjob</th>\n",
       "      <th>Fjob</th>\n",
       "      <th>guardian</th>\n",
       "      <th>traveltime</th>\n",
       "      <th>studytime</th>\n",
       "      <th>failures</th>\n",
       "    </tr>\n",
       "  </thead>\n",
       "  <tbody>\n",
       "    <tr>\n",
       "      <th>0</th>\n",
       "      <td>0.142857</td>\n",
       "      <td>1.00</td>\n",
       "      <td>0.333333</td>\n",
       "      <td>0.50</td>\n",
       "      <td>1.00</td>\n",
       "      <td>1.0</td>\n",
       "      <td>0.000000</td>\n",
       "      <td>0.333333</td>\n",
       "      <td>0.000000</td>\n",
       "    </tr>\n",
       "    <tr>\n",
       "      <th>1</th>\n",
       "      <td>0.285714</td>\n",
       "      <td>1.00</td>\n",
       "      <td>1.000000</td>\n",
       "      <td>0.50</td>\n",
       "      <td>1.00</td>\n",
       "      <td>1.0</td>\n",
       "      <td>0.333333</td>\n",
       "      <td>0.333333</td>\n",
       "      <td>0.000000</td>\n",
       "    </tr>\n",
       "    <tr>\n",
       "      <th>2</th>\n",
       "      <td>0.142857</td>\n",
       "      <td>0.50</td>\n",
       "      <td>1.000000</td>\n",
       "      <td>1.00</td>\n",
       "      <td>0.25</td>\n",
       "      <td>0.5</td>\n",
       "      <td>0.333333</td>\n",
       "      <td>0.333333</td>\n",
       "      <td>0.000000</td>\n",
       "    </tr>\n",
       "    <tr>\n",
       "      <th>3</th>\n",
       "      <td>0.142857</td>\n",
       "      <td>0.50</td>\n",
       "      <td>0.333333</td>\n",
       "      <td>0.75</td>\n",
       "      <td>1.00</td>\n",
       "      <td>1.0</td>\n",
       "      <td>0.333333</td>\n",
       "      <td>0.333333</td>\n",
       "      <td>0.000000</td>\n",
       "    </tr>\n",
       "    <tr>\n",
       "      <th>4</th>\n",
       "      <td>0.142857</td>\n",
       "      <td>0.25</td>\n",
       "      <td>0.333333</td>\n",
       "      <td>1.00</td>\n",
       "      <td>1.00</td>\n",
       "      <td>1.0</td>\n",
       "      <td>0.333333</td>\n",
       "      <td>0.000000</td>\n",
       "      <td>0.333333</td>\n",
       "    </tr>\n",
       "  </tbody>\n",
       "</table>\n",
       "</div>"
      ],
      "text/plain": [
       "        age  Medu      Fedu  Mjob  Fjob  guardian  traveltime  studytime  \\\n",
       "0  0.142857  1.00  0.333333  0.50  1.00       1.0    0.000000   0.333333   \n",
       "1  0.285714  1.00  1.000000  0.50  1.00       1.0    0.333333   0.333333   \n",
       "2  0.142857  0.50  1.000000  1.00  0.25       0.5    0.333333   0.333333   \n",
       "3  0.142857  0.50  0.333333  0.75  1.00       1.0    0.333333   0.333333   \n",
       "4  0.142857  0.25  0.333333  1.00  1.00       1.0    0.333333   0.000000   \n",
       "\n",
       "   failures  \n",
       "0  0.000000  \n",
       "1  0.000000  \n",
       "2  0.000000  \n",
       "3  0.000000  \n",
       "4  0.333333  "
      ]
     },
     "execution_count": 11,
     "metadata": {},
     "output_type": "execute_result"
    }
   ],
   "source": [
    "# display the scaled dataset\n",
    "X_train[scaled].head()"
   ]
  },
  {
   "cell_type": "markdown",
   "id": "d94fb94a-1fbe-45ae-9bac-708cabc420d5",
   "metadata": {},
   "source": [
    "Let's confirm our scaling operation:"
   ]
  },
  {
   "cell_type": "code",
   "execution_count": 12,
   "id": "6b16c9be-145c-441b-b643-640f826b3ea1",
   "metadata": {},
   "outputs": [
    {
     "data": {
      "text/html": [
       "<div>\n",
       "<style scoped>\n",
       "    .dataframe tbody tr th:only-of-type {\n",
       "        vertical-align: middle;\n",
       "    }\n",
       "\n",
       "    .dataframe tbody tr th {\n",
       "        vertical-align: top;\n",
       "    }\n",
       "\n",
       "    .dataframe thead th {\n",
       "        text-align: right;\n",
       "    }\n",
       "</style>\n",
       "<table border=\"1\" class=\"dataframe\">\n",
       "  <thead>\n",
       "    <tr style=\"text-align: right;\">\n",
       "      <th></th>\n",
       "      <th>age</th>\n",
       "      <th>Medu</th>\n",
       "      <th>Fedu</th>\n",
       "      <th>Mjob</th>\n",
       "      <th>Fjob</th>\n",
       "      <th>guardian</th>\n",
       "      <th>traveltime</th>\n",
       "      <th>studytime</th>\n",
       "      <th>failures</th>\n",
       "    </tr>\n",
       "  </thead>\n",
       "  <tbody>\n",
       "    <tr>\n",
       "      <th>count</th>\n",
       "      <td>276.00</td>\n",
       "      <td>276.00</td>\n",
       "      <td>276.00</td>\n",
       "      <td>276.00</td>\n",
       "      <td>276.00</td>\n",
       "      <td>276.00</td>\n",
       "      <td>276.00</td>\n",
       "      <td>276.00</td>\n",
       "      <td>276.00</td>\n",
       "    </tr>\n",
       "    <tr>\n",
       "      <th>mean</th>\n",
       "      <td>0.24</td>\n",
       "      <td>0.68</td>\n",
       "      <td>0.51</td>\n",
       "      <td>0.67</td>\n",
       "      <td>0.82</td>\n",
       "      <td>0.80</td>\n",
       "      <td>0.15</td>\n",
       "      <td>0.34</td>\n",
       "      <td>0.11</td>\n",
       "    </tr>\n",
       "    <tr>\n",
       "      <th>std</th>\n",
       "      <td>0.18</td>\n",
       "      <td>0.27</td>\n",
       "      <td>0.36</td>\n",
       "      <td>0.32</td>\n",
       "      <td>0.26</td>\n",
       "      <td>0.33</td>\n",
       "      <td>0.23</td>\n",
       "      <td>0.28</td>\n",
       "      <td>0.23</td>\n",
       "    </tr>\n",
       "    <tr>\n",
       "      <th>min</th>\n",
       "      <td>0.00</td>\n",
       "      <td>0.00</td>\n",
       "      <td>0.00</td>\n",
       "      <td>0.00</td>\n",
       "      <td>0.00</td>\n",
       "      <td>0.00</td>\n",
       "      <td>0.00</td>\n",
       "      <td>0.00</td>\n",
       "      <td>0.00</td>\n",
       "    </tr>\n",
       "    <tr>\n",
       "      <th>25%</th>\n",
       "      <td>0.14</td>\n",
       "      <td>0.50</td>\n",
       "      <td>0.33</td>\n",
       "      <td>0.50</td>\n",
       "      <td>0.75</td>\n",
       "      <td>0.50</td>\n",
       "      <td>0.00</td>\n",
       "      <td>0.00</td>\n",
       "      <td>0.00</td>\n",
       "    </tr>\n",
       "    <tr>\n",
       "      <th>50%</th>\n",
       "      <td>0.29</td>\n",
       "      <td>0.75</td>\n",
       "      <td>0.67</td>\n",
       "      <td>0.75</td>\n",
       "      <td>1.00</td>\n",
       "      <td>1.00</td>\n",
       "      <td>0.00</td>\n",
       "      <td>0.33</td>\n",
       "      <td>0.00</td>\n",
       "    </tr>\n",
       "    <tr>\n",
       "      <th>75%</th>\n",
       "      <td>0.43</td>\n",
       "      <td>1.00</td>\n",
       "      <td>0.67</td>\n",
       "      <td>1.00</td>\n",
       "      <td>1.00</td>\n",
       "      <td>1.00</td>\n",
       "      <td>0.33</td>\n",
       "      <td>0.33</td>\n",
       "      <td>0.00</td>\n",
       "    </tr>\n",
       "    <tr>\n",
       "      <th>max</th>\n",
       "      <td>1.00</td>\n",
       "      <td>1.00</td>\n",
       "      <td>1.00</td>\n",
       "      <td>1.00</td>\n",
       "      <td>1.00</td>\n",
       "      <td>1.00</td>\n",
       "      <td>1.00</td>\n",
       "      <td>1.00</td>\n",
       "      <td>1.00</td>\n",
       "    </tr>\n",
       "  </tbody>\n",
       "</table>\n",
       "</div>"
      ],
      "text/plain": [
       "          age    Medu    Fedu    Mjob    Fjob  guardian  traveltime  \\\n",
       "count  276.00  276.00  276.00  276.00  276.00    276.00      276.00   \n",
       "mean     0.24    0.68    0.51    0.67    0.82      0.80        0.15   \n",
       "std      0.18    0.27    0.36    0.32    0.26      0.33        0.23   \n",
       "min      0.00    0.00    0.00    0.00    0.00      0.00        0.00   \n",
       "25%      0.14    0.50    0.33    0.50    0.75      0.50        0.00   \n",
       "50%      0.29    0.75    0.67    0.75    1.00      1.00        0.00   \n",
       "75%      0.43    1.00    0.67    1.00    1.00      1.00        0.33   \n",
       "max      1.00    1.00    1.00    1.00    1.00      1.00        1.00   \n",
       "\n",
       "       studytime  failures  \n",
       "count     276.00    276.00  \n",
       "mean        0.34      0.11  \n",
       "std         0.28      0.23  \n",
       "min         0.00      0.00  \n",
       "25%         0.00      0.00  \n",
       "50%         0.33      0.00  \n",
       "75%         0.33      0.00  \n",
       "max         1.00      1.00  "
      ]
     },
     "execution_count": 12,
     "metadata": {},
     "output_type": "execute_result"
    }
   ],
   "source": [
    "X_train[scaled].describe().round(2)"
   ]
  },
  {
   "cell_type": "markdown",
   "id": "eee11fc7-9218-47da-a621-6120e7de0c4c",
   "metadata": {},
   "source": [
    "Our scaled variables now range between 0 and 1."
   ]
  },
  {
   "cell_type": "markdown",
   "id": "c412882c-52b5-4822-9476-e0784e2091bf",
   "metadata": {},
   "source": [
    "# Model Training: Lasso Regression"
   ]
  },
  {
   "cell_type": "code",
   "execution_count": 13,
   "id": "297eabbb-4a9e-4820-b5bf-d94c980f4a86",
   "metadata": {},
   "outputs": [
    {
     "data": {
      "text/plain": [
       "Lasso(alpha=0.001, random_state=0)"
      ]
     },
     "execution_count": 13,
     "metadata": {},
     "output_type": "execute_result"
    }
   ],
   "source": [
    "# instantiate the model object\n",
    "las_model = Lasso(alpha=0.001, random_state=0)\n",
    "\n",
    "# fit the model\n",
    "las_model.fit(X_train,y_train)"
   ]
  },
  {
   "cell_type": "code",
   "execution_count": 14,
   "id": "e7df3cd6-a18e-48c8-80b9-5dcef7346b18",
   "metadata": {},
   "outputs": [
    {
     "name": "stdout",
     "output_type": "stream",
     "text": [
      "train mse: 14\n",
      "train rmse: 3.7416573867739413\n",
      "train r2: 0.20020311080698627\n",
      "\n"
     ]
    }
   ],
   "source": [
    "# make predictions on the train set\n",
    "las_pred = las_model.predict(X_train)\n",
    "\n",
    "# evaluate the model\n",
    "print(f'train mse: {int(mean_squared_error(y_train,las_pred))}')\n",
    "print(f'train rmse: {(int(mean_squared_error(y_train,las_pred)))**0.5}')\n",
    "print(f'train r2: {r2_score(y_train,las_pred)}')\n",
    "print()"
   ]
  },
  {
   "cell_type": "markdown",
   "id": "432f8be2-6a7c-41d5-822a-b3b972b93c12",
   "metadata": {},
   "source": [
    "Like we anticipated during feature selection, our model isn't very efficient. Even for the train set, it only explains about 20% of the variance in the target variable. We can expect the results on the test set won't be any better."
   ]
  },
  {
   "cell_type": "code",
   "execution_count": 15,
   "id": "321d1b71-643f-4424-8897-58ef7f776dd9",
   "metadata": {},
   "outputs": [
    {
     "name": "stdout",
     "output_type": "stream",
     "text": [
      "test mse: 27\n",
      "test rmse: 5.196152422706632\n",
      "test r2: 0.024124089072350086\n",
      "\n"
     ]
    }
   ],
   "source": [
    "# make predictions on the test set\n",
    "las_pred = las_model.predict(X_test)\n",
    "\n",
    "# evaluate the model\n",
    "print(f'test mse: {int(mean_squared_error(y_test,las_pred))}')\n",
    "print(f'test rmse: {(int(mean_squared_error(y_test,las_pred)))**0.5}')\n",
    "print(f'test r2: {r2_score(y_test,las_pred)}')\n",
    "print()"
   ]
  },
  {
   "cell_type": "markdown",
   "id": "8658f12f-b78f-4191-ae87-06b9ce589bd4",
   "metadata": {},
   "source": [
    "The model even performs worse on the test data -  it only explains just 2.4% of the variance in the target. This highlights the limited nature of the features and the prevalence of noise in the data.\n",
    "\n",
    "Let's try a different model and observe the results."
   ]
  },
  {
   "cell_type": "markdown",
   "id": "3de95ec9-6756-4d10-b0ff-5f9269b9bb8b",
   "metadata": {},
   "source": [
    "# Model Training: Linear Regression"
   ]
  },
  {
   "cell_type": "code",
   "execution_count": 16,
   "id": "b73fc405-6d32-40a4-bd4d-2b770ca1b918",
   "metadata": {},
   "outputs": [
    {
     "data": {
      "text/plain": [
       "LinearRegression()"
      ]
     },
     "execution_count": 16,
     "metadata": {},
     "output_type": "execute_result"
    }
   ],
   "source": [
    "# instantiate the model object\n",
    "lin_model = LinearRegression()\n",
    "\n",
    "# fit the model\n",
    "lin_model.fit(X_train, y_train)"
   ]
  },
  {
   "cell_type": "code",
   "execution_count": 17,
   "id": "cacc3ca3-8bca-4a0e-aad3-3dfa1c48fb6f",
   "metadata": {},
   "outputs": [
    {
     "name": "stdout",
     "output_type": "stream",
     "text": [
      "train mse: 14\n",
      "train rmse: 3.7416573867739413\n",
      "train r2: 0.20021122190327312\n",
      "\n"
     ]
    }
   ],
   "source": [
    "# make predictions on the train set\n",
    "lin_pred = lin_model.predict(X_train)\n",
    "\n",
    "# evaluate the model\n",
    "print(f'train mse: {int(mean_squared_error(y_train,lin_pred))}')\n",
    "print(f'train rmse: {(int(mean_squared_error(y_train,lin_pred)))**0.5}')\n",
    "print(f'train r2: {r2_score(y_train,lin_pred)}')\n",
    "print()"
   ]
  },
  {
   "cell_type": "code",
   "execution_count": 18,
   "id": "c903037c-97f1-46bb-b10b-23f0c8c0f930",
   "metadata": {},
   "outputs": [
    {
     "name": "stdout",
     "output_type": "stream",
     "text": [
      "test mse: 27\n",
      "test rmse: 5.196152422706632\n",
      "test r2: 0.023760080935216976\n",
      "\n"
     ]
    }
   ],
   "source": [
    "# make predictions on the test set\n",
    "lin_pred = lin_model.predict(X_test)\n",
    "\n",
    "# evaluate the model\n",
    "print(f'test mse: {int(mean_squared_error(y_test,lin_pred))}')\n",
    "print(f'test rmse: {(int(mean_squared_error(y_test,lin_pred)))**0.5}')\n",
    "print(f'test r2: {r2_score(y_test,lin_pred)}')\n",
    "print()"
   ]
  },
  {
   "cell_type": "markdown",
   "id": "00c25578-407c-4d13-a116-7832352ce017",
   "metadata": {},
   "source": [
    "The results for the linear regression experiment mirror the results we obtained from the lasso regression for the train and test sets confirming the inefficiency of the model.\n",
    "\n",
    "Let's evaluate the predictions against the actual values in a scatterplot."
   ]
  },
  {
   "cell_type": "code",
   "execution_count": 19,
   "id": "039d8777-d430-49b3-bce6-2d0e47ed0bc6",
   "metadata": {},
   "outputs": [
    {
     "data": {
      "text/plain": [
       "<matplotlib.collections.PathCollection at 0x1269fb490>"
      ]
     },
     "execution_count": 19,
     "metadata": {},
     "output_type": "execute_result"
    },
    {
     "data": {
      "image/png": "[encoded data removed]",
      "text/plain": [
       "<Figure size 432x288 with 1 Axes>"
      ]
     },
     "metadata": {},
     "output_type": "display_data"
    }
   ],
   "source": [
    "# y_test vs lasso regression predictions\n",
    "plt.scatter(y_test,las_pred)"
   ]
  },
  {
   "cell_type": "code",
   "execution_count": 20,
   "id": "a9447183-150e-406d-b1f3-f9fbe113c979",
   "metadata": {},
   "outputs": [
    {
     "data": {
      "text/plain": [
       "<matplotlib.collections.PathCollection at 0x126b23280>"
      ]
     },
     "execution_count": 20,
     "metadata": {},
     "output_type": "execute_result"
    },
    {
     "data": {
      "image/png": "[encoded data removed]",
      "text/plain": [
       "<Figure size 432x288 with 1 Axes>"
      ]
     },
     "metadata": {},
     "output_type": "display_data"
    }
   ],
   "source": [
    "# y_test vs linear regression predictions\n",
    "plt.scatter(y_test,lin_pred)"
   ]
  },
  {
   "cell_type": "markdown",
   "id": "511777c5-a274-4272-a8a8-5a3fea4f2e1f",
   "metadata": {},
   "source": [
    "The plots confirm our findings on the models we have trained."
   ]
  },
  {
   "cell_type": "code",
   "execution_count": null,
   "id": "c5c3eae4-9f8e-4a43-8d7c-9e70a1e1474d",
   "metadata": {},
   "outputs": [],
   "source": []
  }
 ],
 "metadata": {
  "kernelspec": {
   "display_name": "Python 3 (ipykernel)",
   "language": "python",
   "name": "python3"
  },
  "language_info": {
   "codemirror_mode": {
    "name": "ipython",
    "version": 3
   },
   "file_extension": ".py",
   "mimetype": "text/x-python",
   "name": "python",
   "nbconvert_exporter": "python",
   "pygments_lexer": "ipython3",
   "version": "3.9.7"
  }
 },
 "nbformat": 4,
 "nbformat_minor": 5
}
