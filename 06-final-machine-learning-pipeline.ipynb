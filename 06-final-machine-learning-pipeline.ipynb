{
 "cells": [
  {
   "cell_type": "markdown",
   "id": "61b0cee0-7577-4672-afd3-6a5558320238",
   "metadata": {},
   "source": [
    "# Final Machine Learning Pipeline\n",
    "\n",
    "In this notebook, we will set up all the feature engineering steps within a Scikit-learn pipeline utilizing the open source transformers plus those we developed in house.\n",
    "\n",
    "The pipeline features:\n",
    "\n",
    "- open source classes\n",
    "- in house package classes\n",
    "- only the selected features"
   ]
  },
  {
   "cell_type": "code",
   "execution_count": 1,
   "id": "ba295616-4c70-48f1-b9fc-0a97efcdf4fc",
   "metadata": {},
   "outputs": [],
   "source": [
    "# data manipulation and plotting\n",
    "import pandas as pd\n",
    "import numpy as np\n",
    "\n",
    "import matplotlib.pyplot as plt\n",
    "import seaborn as sns\n",
    "sns.set_style('darkgrid')\n",
    "\n",
    "# for saving the pipeline\n",
    "import joblib\n",
    "\n",
    "# from scikit-learn\n",
    "from sklearn.linear_model import Lasso\n",
    "from sklearn.metrics import mean_squared_error, r2_score\n",
    "from sklearn.model_selection import train_test_split\n",
    "from sklearn.pipeline import Pipeline\n",
    "from sklearn.preprocessing import MinMaxScaler\n",
    "\n",
    "# from feature engine\n",
    "from feature_engine.selection import DropFeatures\n",
    "\n",
    "# created in-house\n",
    "import preprocessors as pp"
   ]
  },
  {
   "cell_type": "code",
   "execution_count": 2,
   "id": "e2655dd2-6ab3-40a6-9597-79ced160ec0d",
   "metadata": {},
   "outputs": [],
   "source": [
    "# to display all the columns of the dataframe in the notebook\n",
    "pd.pandas.set_option('display.max_columns', None)"
   ]
  },
  {
   "cell_type": "code",
   "execution_count": 3,
   "id": "1438d4f0-8020-4d76-b748-dca6961ae137",
   "metadata": {},
   "outputs": [
    {
     "name": "stdout",
     "output_type": "stream",
     "text": [
      "(395, 33)\n"
     ]
    },
    {
     "data": {
      "text/html": [
       "<div>\n",
       "<style scoped>\n",
       "    .dataframe tbody tr th:only-of-type {\n",
       "        vertical-align: middle;\n",
       "    }\n",
       "\n",
       "    .dataframe tbody tr th {\n",
       "        vertical-align: top;\n",
       "    }\n",
       "\n",
       "    .dataframe thead th {\n",
       "        text-align: right;\n",
       "    }\n",
       "</style>\n",
       "<table border=\"1\" class=\"dataframe\">\n",
       "  <thead>\n",
       "    <tr style=\"text-align: right;\">\n",
       "      <th></th>\n",
       "      <th>school</th>\n",
       "      <th>sex</th>\n",
       "      <th>age</th>\n",
       "      <th>address</th>\n",
       "      <th>famsize</th>\n",
       "      <th>Pstatus</th>\n",
       "      <th>Medu</th>\n",
       "      <th>Fedu</th>\n",
       "      <th>Mjob</th>\n",
       "      <th>Fjob</th>\n",
       "      <th>reason</th>\n",
       "      <th>guardian</th>\n",
       "      <th>traveltime</th>\n",
       "      <th>studytime</th>\n",
       "      <th>failures</th>\n",
       "      <th>schoolsup</th>\n",
       "      <th>famsup</th>\n",
       "      <th>paid</th>\n",
       "      <th>activities</th>\n",
       "      <th>nursery</th>\n",
       "      <th>higher</th>\n",
       "      <th>internet</th>\n",
       "      <th>romantic</th>\n",
       "      <th>famrel</th>\n",
       "      <th>freetime</th>\n",
       "      <th>goout</th>\n",
       "      <th>Dalc</th>\n",
       "      <th>Walc</th>\n",
       "      <th>health</th>\n",
       "      <th>absences</th>\n",
       "      <th>G1</th>\n",
       "      <th>G2</th>\n",
       "      <th>G3</th>\n",
       "    </tr>\n",
       "  </thead>\n",
       "  <tbody>\n",
       "    <tr>\n",
       "      <th>0</th>\n",
       "      <td>GP</td>\n",
       "      <td>F</td>\n",
       "      <td>18</td>\n",
       "      <td>U</td>\n",
       "      <td>GT3</td>\n",
       "      <td>A</td>\n",
       "      <td>4</td>\n",
       "      <td>4</td>\n",
       "      <td>at_home</td>\n",
       "      <td>teacher</td>\n",
       "      <td>course</td>\n",
       "      <td>mother</td>\n",
       "      <td>2</td>\n",
       "      <td>2</td>\n",
       "      <td>0</td>\n",
       "      <td>yes</td>\n",
       "      <td>no</td>\n",
       "      <td>no</td>\n",
       "      <td>no</td>\n",
       "      <td>yes</td>\n",
       "      <td>yes</td>\n",
       "      <td>no</td>\n",
       "      <td>no</td>\n",
       "      <td>4</td>\n",
       "      <td>3</td>\n",
       "      <td>4</td>\n",
       "      <td>1</td>\n",
       "      <td>1</td>\n",
       "      <td>3</td>\n",
       "      <td>6</td>\n",
       "      <td>5</td>\n",
       "      <td>6</td>\n",
       "      <td>6</td>\n",
       "    </tr>\n",
       "    <tr>\n",
       "      <th>1</th>\n",
       "      <td>GP</td>\n",
       "      <td>F</td>\n",
       "      <td>17</td>\n",
       "      <td>U</td>\n",
       "      <td>GT3</td>\n",
       "      <td>T</td>\n",
       "      <td>1</td>\n",
       "      <td>1</td>\n",
       "      <td>at_home</td>\n",
       "      <td>other</td>\n",
       "      <td>course</td>\n",
       "      <td>father</td>\n",
       "      <td>1</td>\n",
       "      <td>2</td>\n",
       "      <td>0</td>\n",
       "      <td>no</td>\n",
       "      <td>yes</td>\n",
       "      <td>no</td>\n",
       "      <td>no</td>\n",
       "      <td>no</td>\n",
       "      <td>yes</td>\n",
       "      <td>yes</td>\n",
       "      <td>no</td>\n",
       "      <td>5</td>\n",
       "      <td>3</td>\n",
       "      <td>3</td>\n",
       "      <td>1</td>\n",
       "      <td>1</td>\n",
       "      <td>3</td>\n",
       "      <td>4</td>\n",
       "      <td>5</td>\n",
       "      <td>5</td>\n",
       "      <td>6</td>\n",
       "    </tr>\n",
       "    <tr>\n",
       "      <th>2</th>\n",
       "      <td>GP</td>\n",
       "      <td>F</td>\n",
       "      <td>15</td>\n",
       "      <td>U</td>\n",
       "      <td>LE3</td>\n",
       "      <td>T</td>\n",
       "      <td>1</td>\n",
       "      <td>1</td>\n",
       "      <td>at_home</td>\n",
       "      <td>other</td>\n",
       "      <td>other</td>\n",
       "      <td>mother</td>\n",
       "      <td>1</td>\n",
       "      <td>2</td>\n",
       "      <td>3</td>\n",
       "      <td>yes</td>\n",
       "      <td>no</td>\n",
       "      <td>yes</td>\n",
       "      <td>no</td>\n",
       "      <td>yes</td>\n",
       "      <td>yes</td>\n",
       "      <td>yes</td>\n",
       "      <td>no</td>\n",
       "      <td>4</td>\n",
       "      <td>3</td>\n",
       "      <td>2</td>\n",
       "      <td>2</td>\n",
       "      <td>3</td>\n",
       "      <td>3</td>\n",
       "      <td>10</td>\n",
       "      <td>7</td>\n",
       "      <td>8</td>\n",
       "      <td>10</td>\n",
       "    </tr>\n",
       "    <tr>\n",
       "      <th>3</th>\n",
       "      <td>GP</td>\n",
       "      <td>F</td>\n",
       "      <td>15</td>\n",
       "      <td>U</td>\n",
       "      <td>GT3</td>\n",
       "      <td>T</td>\n",
       "      <td>4</td>\n",
       "      <td>2</td>\n",
       "      <td>health</td>\n",
       "      <td>services</td>\n",
       "      <td>home</td>\n",
       "      <td>mother</td>\n",
       "      <td>1</td>\n",
       "      <td>3</td>\n",
       "      <td>0</td>\n",
       "      <td>no</td>\n",
       "      <td>yes</td>\n",
       "      <td>yes</td>\n",
       "      <td>yes</td>\n",
       "      <td>yes</td>\n",
       "      <td>yes</td>\n",
       "      <td>yes</td>\n",
       "      <td>yes</td>\n",
       "      <td>3</td>\n",
       "      <td>2</td>\n",
       "      <td>2</td>\n",
       "      <td>1</td>\n",
       "      <td>1</td>\n",
       "      <td>5</td>\n",
       "      <td>2</td>\n",
       "      <td>15</td>\n",
       "      <td>14</td>\n",
       "      <td>15</td>\n",
       "    </tr>\n",
       "    <tr>\n",
       "      <th>4</th>\n",
       "      <td>GP</td>\n",
       "      <td>F</td>\n",
       "      <td>16</td>\n",
       "      <td>U</td>\n",
       "      <td>GT3</td>\n",
       "      <td>T</td>\n",
       "      <td>3</td>\n",
       "      <td>3</td>\n",
       "      <td>other</td>\n",
       "      <td>other</td>\n",
       "      <td>home</td>\n",
       "      <td>father</td>\n",
       "      <td>1</td>\n",
       "      <td>2</td>\n",
       "      <td>0</td>\n",
       "      <td>no</td>\n",
       "      <td>yes</td>\n",
       "      <td>yes</td>\n",
       "      <td>no</td>\n",
       "      <td>yes</td>\n",
       "      <td>yes</td>\n",
       "      <td>no</td>\n",
       "      <td>no</td>\n",
       "      <td>4</td>\n",
       "      <td>3</td>\n",
       "      <td>2</td>\n",
       "      <td>1</td>\n",
       "      <td>2</td>\n",
       "      <td>5</td>\n",
       "      <td>4</td>\n",
       "      <td>6</td>\n",
       "      <td>10</td>\n",
       "      <td>10</td>\n",
       "    </tr>\n",
       "  </tbody>\n",
       "</table>\n",
       "</div>"
      ],
      "text/plain": [
       "  school sex  age address famsize Pstatus  Medu  Fedu     Mjob      Fjob  \\\n",
       "0     GP   F   18       U     GT3       A     4     4  at_home   teacher   \n",
       "1     GP   F   17       U     GT3       T     1     1  at_home     other   \n",
       "2     GP   F   15       U     LE3       T     1     1  at_home     other   \n",
       "3     GP   F   15       U     GT3       T     4     2   health  services   \n",
       "4     GP   F   16       U     GT3       T     3     3    other     other   \n",
       "\n",
       "   reason guardian  traveltime  studytime  failures schoolsup famsup paid  \\\n",
       "0  course   mother           2          2         0       yes     no   no   \n",
       "1  course   father           1          2         0        no    yes   no   \n",
       "2   other   mother           1          2         3       yes     no  yes   \n",
       "3    home   mother           1          3         0        no    yes  yes   \n",
       "4    home   father           1          2         0        no    yes  yes   \n",
       "\n",
       "  activities nursery higher internet romantic  famrel  freetime  goout  Dalc  \\\n",
       "0         no     yes    yes       no       no       4         3      4     1   \n",
       "1         no      no    yes      yes       no       5         3      3     1   \n",
       "2         no     yes    yes      yes       no       4         3      2     2   \n",
       "3        yes     yes    yes      yes      yes       3         2      2     1   \n",
       "4         no     yes    yes       no       no       4         3      2     1   \n",
       "\n",
       "   Walc  health  absences  G1  G2  G3  \n",
       "0     1       3         6   5   6   6  \n",
       "1     1       3         4   5   5   6  \n",
       "2     3       3        10   7   8  10  \n",
       "3     1       5         2  15  14  15  \n",
       "4     2       5         4   6  10  10  "
      ]
     },
     "execution_count": 3,
     "metadata": {},
     "output_type": "execute_result"
    }
   ],
   "source": [
    "# load dataset\n",
    "data = pd.read_csv('student-mat.csv',sep=';')\n",
    "\n",
    "# rows and columns of the data\n",
    "print(data.shape)\n",
    "\n",
    "# visualise the dataset\n",
    "data.head()"
   ]
  },
  {
   "cell_type": "markdown",
   "id": "80c39882-b143-4033-84fe-2666fe0ef629",
   "metadata": {},
   "source": [
    "# Separate dataset into train and test\n",
    "\n",
    "It is important to separate our data intro training and testing set.\n",
    "\n",
    "When we engineer features, some techniques learn parameters from data. It is important to learn these parameters only from the train set. This is to avoid over-fitting.\n",
    "\n",
    "**Separating the data into train and test involves randomness, therefore, we need to set the seed.**"
   ]
  },
  {
   "cell_type": "code",
   "execution_count": 4,
   "id": "0cb33331-b79b-467d-8b45-6ae402ab3761",
   "metadata": {},
   "outputs": [],
   "source": [
    "# Let's separate into train and test set\n",
    "# Remember to set the seed (random_state for this sklearn function)\n",
    "\n",
    "X_train, X_test, y_train, y_test = train_test_split(\n",
    "    data.drop(['G1','G2','G3'],axis=1), \n",
    "    data['G3'], \n",
    "    test_size=0.3, \n",
    "    random_state=0)"
   ]
  },
  {
   "cell_type": "code",
   "execution_count": 5,
   "id": "d0070eb6-2c69-4f50-8a64-d9a3634bb256",
   "metadata": {},
   "outputs": [
    {
     "data": {
      "text/plain": [
       "((276, 30), (119, 30))"
      ]
     },
     "execution_count": 5,
     "metadata": {},
     "output_type": "execute_result"
    }
   ],
   "source": [
    "X_train.shape, X_test.shape"
   ]
  },
  {
   "cell_type": "markdown",
   "id": "a982b504-0cc9-4b48-af20-7ce2cabdc370",
   "metadata": {},
   "source": [
    "# Configuration"
   ]
  },
  {
   "cell_type": "code",
   "execution_count": 6,
   "id": "0fd3d5a6-766c-487f-8701-fede05ac84cd",
   "metadata": {},
   "outputs": [],
   "source": [
    "# binary variables in the train set\n",
    "BINARY_VARS = ['school',\n",
    "               'sex',\n",
    "               'address',\n",
    "               'famsize',\n",
    "               'Pstatus',\n",
    "               'schoolsup',\n",
    "               'famsup',\n",
    "               'paid',\n",
    "               'activities',\n",
    "               'nursery',\n",
    "               'higher',\n",
    "               'internet',\n",
    "               'romantic']\n",
    "\n",
    "# non-binary variables in the train set\n",
    "NON_BINARY_VARS = ['Mjob', \n",
    "                   'Fjob', \n",
    "                   'reason', \n",
    "                   'guardian']\n",
    "\n",
    "# continuous variables that will require scaling\n",
    "SCALED = ['age',\n",
    "          'Medu',\n",
    "          'Fedu',\n",
    "          'Mjob',\n",
    "          'Fjob',\n",
    "          'guardian',\n",
    "          'traveltime',\n",
    "          'studytime',\n",
    "          'failures']\n",
    "\n",
    "# target variable for non-parametric ranking\n",
    "TARGET = 'G3'\n",
    "\n",
    "# unneeded features with high p-values and low effect sizes\n",
    "DROPPED_FEAT = ['reason',\n",
    "                'famrel',\n",
    "                'freetime',\n",
    "                'goout',\n",
    "                'Dalc',\n",
    "                'Walc',\n",
    "                'health',\n",
    "                'absences',\n",
    "                'school_MS',\n",
    "                'sex_M',\n",
    "                'famsize_LE3',\n",
    "                'Pstatus_T',\n",
    "                'famsup_yes',\n",
    "                'paid_yes',\n",
    "                'activities_yes',\n",
    "                'nursery_yes',\n",
    "                'internet_yes',\n",
    "                'romantic_yes']"
   ]
  },
  {
   "cell_type": "markdown",
   "id": "7af79719-d1df-431c-a75d-1142e277a664",
   "metadata": {},
   "source": [
    "# Pipeline - End-to-end\n",
    "\n",
    "We have 5 steps less, commented out:\n",
    "\n",
    "- encoding of binary variables\n",
    "- encoding of non-binary variables\n",
    "- scaling the continuous variables\n",
    "- drop the unneeded features\n",
    "- train the model with lasso regression"
   ]
  },
  {
   "cell_type": "code",
   "execution_count": 7,
   "id": "b81100da-05a2-4404-a5b8-87ead9db5e95",
   "metadata": {},
   "outputs": [],
   "source": [
    "# set up the pipeline\n",
    "grade_pipe = Pipeline([\n",
    "    \n",
    "    # ===== ENCODING =====\n",
    "    # encoding of categorical binary variables\n",
    "    ('binary_encoder', pp.CategoricalEncoder(variables=BINARY_VARS)),\n",
    "    \n",
    "    # encoding of categorical non-binary variables\n",
    "    ('non_binary_encoder', pp.OrdinalEncoder(\n",
    "        variables=NON_BINARY_VARS, target=TARGET)),\n",
    "    \n",
    "    # ===== SCALER =====\n",
    "    # scale the continuous variables\n",
    "    ('scaler', pp.ContinuousScaler(variables=SCALED)),\n",
    "    \n",
    "    # ===== DROP FEATURES =====\n",
    "    # reduce dataset to selected features\n",
    "    ('drop_features', DropFeatures(features_to_drop=DROPPED_FEAT)),\n",
    "    \n",
    "    ('Lasso', Lasso(alpha=0.001, random_state=0)),\n",
    "    \n",
    "])"
   ]
  },
  {
   "cell_type": "code",
   "execution_count": 8,
   "id": "28df6a8a-f678-4235-a3eb-43b8e984340f",
   "metadata": {},
   "outputs": [
    {
     "data": {
      "text/plain": [
       "Pipeline(steps=[('binary_encoder',\n",
       "                 <preprocessors.CategoricalEncoder object at 0x11cb464c0>),\n",
       "                ('non_binary_encoder',\n",
       "                 <preprocessors.OrdinalEncoder object at 0x11cb46640>),\n",
       "                ('scaler',\n",
       "                 <preprocessors.ContinuousScaler object at 0x11cb466a0>),\n",
       "                ('drop_features',\n",
       "                 DropFeatures(features_to_drop=['reason', 'famrel', 'freetime',\n",
       "                                                'goout', 'Dalc', 'Walc',\n",
       "                                                'health', 'absences',\n",
       "                                                'school_MS', 'sex_M',\n",
       "                                                'famsize_LE3', 'Pstatus_T',\n",
       "                                                'famsup_yes', 'paid_yes',\n",
       "                                                'activities_yes', 'nursery_yes',\n",
       "                                                'internet_yes',\n",
       "                                                'romantic_yes'])),\n",
       "                ('Lasso', Lasso(alpha=0.001, random_state=0))])"
      ]
     },
     "execution_count": 8,
     "metadata": {},
     "output_type": "execute_result"
    }
   ],
   "source": [
    "# train the pipeline\n",
    "grade_pipe.fit(X_train,y_train)"
   ]
  },
  {
   "cell_type": "code",
   "execution_count": 9,
   "id": "8f85cca2-ad9d-4fff-bf03-38b853ce237a",
   "metadata": {},
   "outputs": [
    {
     "name": "stdout",
     "output_type": "stream",
     "text": [
      "train mse: 14\n",
      "train rmse: 3.7416573867739413\n",
      "train r2: 0.20020309622212784\n",
      "\n",
      "test mse: 27\n",
      "test rmse: 5.196152422706632\n",
      "test r2: 0.024123499162753248\n",
      "\n",
      "Average grade score: 11.0\n"
     ]
    }
   ],
   "source": [
    "# evaluate the model:\n",
    "# ====================\n",
    "\n",
    "# make predictions for train set\n",
    "pred = grade_pipe.predict(X_train)\n",
    "\n",
    "# determine mse, rmse and r2\n",
    "print(f'train mse: {int(mean_squared_error(y_train, pred))}')\n",
    "print(f'train rmse: {(int(mean_squared_error(y_train, pred)))**0.5}')\n",
    "print(f'train r2: {r2_score(y_train, pred)}')\n",
    "print()\n",
    "\n",
    "# make predictions for test set\n",
    "pred = grade_pipe.predict(X_test)\n",
    "\n",
    "# determine mse, rmse and r2\n",
    "print(f'test mse: {int(mean_squared_error(y_test, pred))}')\n",
    "print(f'test rmse: {(int(mean_squared_error(y_test, pred)))**0.5}')\n",
    "print(f'test r2: {r2_score(y_test, pred)}')\n",
    "print()\n",
    "\n",
    "print(f'Average grade score: {y_train.median()}')"
   ]
  },
  {
   "cell_type": "markdown",
   "id": "08fcb2c8-c4c5-47da-b66b-310c1675bb6f",
   "metadata": {},
   "source": [
    "Identical results to when we did the engineering manually."
   ]
  },
  {
   "cell_type": "code",
   "execution_count": 10,
   "id": "e79dc33f-3f6f-43ad-b882-9ec31af060fd",
   "metadata": {},
   "outputs": [
    {
     "data": {
      "text/plain": [
       "Text(0.5, 1.0, 'Evaluation of Lasso Predictions')"
      ]
     },
     "execution_count": 10,
     "metadata": {},
     "output_type": "execute_result"
    },
    {
     "data": {
      "image/png": "[encoded data removed]",
      "text/plain": [
       "<Figure size 432x288 with 1 Axes>"
      ]
     },
     "metadata": {},
     "output_type": "display_data"
    }
   ],
   "source": [
    "# let's evaluate our predictions respect to the real sale price\n",
    "plt.scatter(y_test, grade_pipe.predict(X_test))\n",
    "plt.xlabel('True Grade Score')\n",
    "plt.ylabel('Predicted Grade Score')\n",
    "plt.title('Evaluation of Lasso Predictions')"
   ]
  },
  {
   "cell_type": "code",
   "execution_count": 11,
   "id": "ab958a8d-b93d-4955-a21d-7fe93bbc9817",
   "metadata": {},
   "outputs": [
    {
     "data": {
      "image/png": "[encoded data removed]",
      "text/plain": [
       "<Figure size 432x288 with 1 Axes>"
      ]
     },
     "metadata": {},
     "output_type": "display_data"
    }
   ],
   "source": [
    "# let's evaluate the distribution of the errors: \n",
    "# they should be fairly normally distributed\n",
    "\n",
    "y_test.reset_index(drop=True, inplace=True)\n",
    "\n",
    "preds = pd.Series(grade_pipe.predict(X_test))\n",
    "\n",
    "errors = y_test - preds\n",
    "errors.hist(bins=30)\n",
    "plt.show()"
   ]
  },
  {
   "cell_type": "code",
   "execution_count": 12,
   "id": "b79baa71-c859-4b86-94bf-bb575037e859",
   "metadata": {},
   "outputs": [
    {
     "data": {
      "text/plain": [
       "['grade_pipe.joblib']"
      ]
     },
     "execution_count": 12,
     "metadata": {},
     "output_type": "execute_result"
    }
   ],
   "source": [
    "# now let's save the scaler\n",
    "\n",
    "joblib.dump(grade_pipe, 'grade_pipe.joblib') "
   ]
  },
  {
   "cell_type": "markdown",
   "id": "31a041ce-b3a7-4383-9575-8c245e4b7fd4",
   "metadata": {},
   "source": [
    "To the extent that the model is efficient, we can go ahead and deploy!"
   ]
  },
  {
   "cell_type": "code",
   "execution_count": null,
   "id": "58b19b71-b8c2-4e25-9d14-28782b4d520a",
   "metadata": {},
   "outputs": [],
   "source": []
  }
 ],
 "metadata": {
  "kernelspec": {
   "display_name": "Python 3 (ipykernel)",
   "language": "python",
   "name": "python3"
  },
  "language_info": {
   "codemirror_mode": {
    "name": "ipython",
    "version": 3
   },
   "file_extension": ".py",
   "mimetype": "text/x-python",
   "name": "python",
   "nbconvert_exporter": "python",
   "pygments_lexer": "ipython3",
   "version": "3.9.7"
  }
 },
 "nbformat": 4,
 "nbformat_minor": 5
}
