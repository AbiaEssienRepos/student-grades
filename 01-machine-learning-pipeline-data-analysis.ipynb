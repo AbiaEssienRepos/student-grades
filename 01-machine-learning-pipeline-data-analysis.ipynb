{
 "cells": [
  {
   "cell_type": "markdown",
   "id": "be981a8f-5562-4fba-9f6e-64948e5ba919",
   "metadata": {
    "tags": []
   },
   "source": [
    "# Machine Learning Pipeline - Data Analysis\n",
    "\n",
    "In the following notebooks, we will go through the implementation of each of the steps in the Machine Learning Pipeline.\n",
    "\n",
    "We will discuss:\n",
    "\n",
    "1. **Data Analysis**\n",
    "2. Feature Engineering\n",
    "3. Feature Selection\n",
    "4. Model Training\n",
    "5. Model Evaluation"
   ]
  },
  {
   "cell_type": "code",
   "execution_count": 1,
   "id": "f245a199-6c42-4eb1-965a-a4ed52f1c7dd",
   "metadata": {},
   "outputs": [],
   "source": [
    "# to handle datasets\n",
    "import pandas as pd\n",
    "import numpy as np\n",
    "\n",
    "# for plotting\n",
    "import matplotlib.pyplot as plt\n",
    "import seaborn as sns\n",
    "sns.set_style('darkgrid')\n",
    "\n",
    "# to display all the columns of the dataframe in the notebook\n",
    "pd.pandas.set_option('display.max_columns',None)"
   ]
  },
  {
   "cell_type": "code",
   "execution_count": 2,
   "id": "188d1a68-2c91-4b8e-b5ff-417f67d66640",
   "metadata": {},
   "outputs": [],
   "source": [
    "# load dataset\n",
    "data = pd.read_csv('student-mat.csv',sep=';')"
   ]
  },
  {
   "cell_type": "code",
   "execution_count": 3,
   "id": "a1f5eb3d-891c-465a-9cff-9a68fb3e10ed",
   "metadata": {},
   "outputs": [
    {
     "name": "stdout",
     "output_type": "stream",
     "text": [
      "Number of rows: 395\n",
      "Number of columns: 33\n"
     ]
    }
   ],
   "source": [
    "# rows and columns of the data\n",
    "print(f'Number of rows: {data.shape[0]}')\n",
    "print(f'Number of columns: {data.shape[1]}')"
   ]
  },
  {
   "cell_type": "code",
   "execution_count": 4,
   "id": "d8260ad7-b549-4997-9d6e-28e5329d2e9c",
   "metadata": {},
   "outputs": [
    {
     "data": {
      "text/html": [
       "<div>\n",
       "<style scoped>\n",
       "    .dataframe tbody tr th:only-of-type {\n",
       "        vertical-align: middle;\n",
       "    }\n",
       "\n",
       "    .dataframe tbody tr th {\n",
       "        vertical-align: top;\n",
       "    }\n",
       "\n",
       "    .dataframe thead th {\n",
       "        text-align: right;\n",
       "    }\n",
       "</style>\n",
       "<table border=\"1\" class=\"dataframe\">\n",
       "  <thead>\n",
       "    <tr style=\"text-align: right;\">\n",
       "      <th></th>\n",
       "      <th>school</th>\n",
       "      <th>sex</th>\n",
       "      <th>age</th>\n",
       "      <th>address</th>\n",
       "      <th>famsize</th>\n",
       "      <th>Pstatus</th>\n",
       "      <th>Medu</th>\n",
       "      <th>Fedu</th>\n",
       "      <th>Mjob</th>\n",
       "      <th>Fjob</th>\n",
       "      <th>reason</th>\n",
       "      <th>guardian</th>\n",
       "      <th>traveltime</th>\n",
       "      <th>studytime</th>\n",
       "      <th>failures</th>\n",
       "      <th>schoolsup</th>\n",
       "      <th>famsup</th>\n",
       "      <th>paid</th>\n",
       "      <th>activities</th>\n",
       "      <th>nursery</th>\n",
       "      <th>higher</th>\n",
       "      <th>internet</th>\n",
       "      <th>romantic</th>\n",
       "      <th>famrel</th>\n",
       "      <th>freetime</th>\n",
       "      <th>goout</th>\n",
       "      <th>Dalc</th>\n",
       "      <th>Walc</th>\n",
       "      <th>health</th>\n",
       "      <th>absences</th>\n",
       "      <th>G1</th>\n",
       "      <th>G2</th>\n",
       "      <th>G3</th>\n",
       "    </tr>\n",
       "  </thead>\n",
       "  <tbody>\n",
       "    <tr>\n",
       "      <th>0</th>\n",
       "      <td>GP</td>\n",
       "      <td>F</td>\n",
       "      <td>18</td>\n",
       "      <td>U</td>\n",
       "      <td>GT3</td>\n",
       "      <td>A</td>\n",
       "      <td>4</td>\n",
       "      <td>4</td>\n",
       "      <td>at_home</td>\n",
       "      <td>teacher</td>\n",
       "      <td>course</td>\n",
       "      <td>mother</td>\n",
       "      <td>2</td>\n",
       "      <td>2</td>\n",
       "      <td>0</td>\n",
       "      <td>yes</td>\n",
       "      <td>no</td>\n",
       "      <td>no</td>\n",
       "      <td>no</td>\n",
       "      <td>yes</td>\n",
       "      <td>yes</td>\n",
       "      <td>no</td>\n",
       "      <td>no</td>\n",
       "      <td>4</td>\n",
       "      <td>3</td>\n",
       "      <td>4</td>\n",
       "      <td>1</td>\n",
       "      <td>1</td>\n",
       "      <td>3</td>\n",
       "      <td>6</td>\n",
       "      <td>5</td>\n",
       "      <td>6</td>\n",
       "      <td>6</td>\n",
       "    </tr>\n",
       "    <tr>\n",
       "      <th>1</th>\n",
       "      <td>GP</td>\n",
       "      <td>F</td>\n",
       "      <td>17</td>\n",
       "      <td>U</td>\n",
       "      <td>GT3</td>\n",
       "      <td>T</td>\n",
       "      <td>1</td>\n",
       "      <td>1</td>\n",
       "      <td>at_home</td>\n",
       "      <td>other</td>\n",
       "      <td>course</td>\n",
       "      <td>father</td>\n",
       "      <td>1</td>\n",
       "      <td>2</td>\n",
       "      <td>0</td>\n",
       "      <td>no</td>\n",
       "      <td>yes</td>\n",
       "      <td>no</td>\n",
       "      <td>no</td>\n",
       "      <td>no</td>\n",
       "      <td>yes</td>\n",
       "      <td>yes</td>\n",
       "      <td>no</td>\n",
       "      <td>5</td>\n",
       "      <td>3</td>\n",
       "      <td>3</td>\n",
       "      <td>1</td>\n",
       "      <td>1</td>\n",
       "      <td>3</td>\n",
       "      <td>4</td>\n",
       "      <td>5</td>\n",
       "      <td>5</td>\n",
       "      <td>6</td>\n",
       "    </tr>\n",
       "    <tr>\n",
       "      <th>2</th>\n",
       "      <td>GP</td>\n",
       "      <td>F</td>\n",
       "      <td>15</td>\n",
       "      <td>U</td>\n",
       "      <td>LE3</td>\n",
       "      <td>T</td>\n",
       "      <td>1</td>\n",
       "      <td>1</td>\n",
       "      <td>at_home</td>\n",
       "      <td>other</td>\n",
       "      <td>other</td>\n",
       "      <td>mother</td>\n",
       "      <td>1</td>\n",
       "      <td>2</td>\n",
       "      <td>3</td>\n",
       "      <td>yes</td>\n",
       "      <td>no</td>\n",
       "      <td>yes</td>\n",
       "      <td>no</td>\n",
       "      <td>yes</td>\n",
       "      <td>yes</td>\n",
       "      <td>yes</td>\n",
       "      <td>no</td>\n",
       "      <td>4</td>\n",
       "      <td>3</td>\n",
       "      <td>2</td>\n",
       "      <td>2</td>\n",
       "      <td>3</td>\n",
       "      <td>3</td>\n",
       "      <td>10</td>\n",
       "      <td>7</td>\n",
       "      <td>8</td>\n",
       "      <td>10</td>\n",
       "    </tr>\n",
       "    <tr>\n",
       "      <th>3</th>\n",
       "      <td>GP</td>\n",
       "      <td>F</td>\n",
       "      <td>15</td>\n",
       "      <td>U</td>\n",
       "      <td>GT3</td>\n",
       "      <td>T</td>\n",
       "      <td>4</td>\n",
       "      <td>2</td>\n",
       "      <td>health</td>\n",
       "      <td>services</td>\n",
       "      <td>home</td>\n",
       "      <td>mother</td>\n",
       "      <td>1</td>\n",
       "      <td>3</td>\n",
       "      <td>0</td>\n",
       "      <td>no</td>\n",
       "      <td>yes</td>\n",
       "      <td>yes</td>\n",
       "      <td>yes</td>\n",
       "      <td>yes</td>\n",
       "      <td>yes</td>\n",
       "      <td>yes</td>\n",
       "      <td>yes</td>\n",
       "      <td>3</td>\n",
       "      <td>2</td>\n",
       "      <td>2</td>\n",
       "      <td>1</td>\n",
       "      <td>1</td>\n",
       "      <td>5</td>\n",
       "      <td>2</td>\n",
       "      <td>15</td>\n",
       "      <td>14</td>\n",
       "      <td>15</td>\n",
       "    </tr>\n",
       "    <tr>\n",
       "      <th>4</th>\n",
       "      <td>GP</td>\n",
       "      <td>F</td>\n",
       "      <td>16</td>\n",
       "      <td>U</td>\n",
       "      <td>GT3</td>\n",
       "      <td>T</td>\n",
       "      <td>3</td>\n",
       "      <td>3</td>\n",
       "      <td>other</td>\n",
       "      <td>other</td>\n",
       "      <td>home</td>\n",
       "      <td>father</td>\n",
       "      <td>1</td>\n",
       "      <td>2</td>\n",
       "      <td>0</td>\n",
       "      <td>no</td>\n",
       "      <td>yes</td>\n",
       "      <td>yes</td>\n",
       "      <td>no</td>\n",
       "      <td>yes</td>\n",
       "      <td>yes</td>\n",
       "      <td>no</td>\n",
       "      <td>no</td>\n",
       "      <td>4</td>\n",
       "      <td>3</td>\n",
       "      <td>2</td>\n",
       "      <td>1</td>\n",
       "      <td>2</td>\n",
       "      <td>5</td>\n",
       "      <td>4</td>\n",
       "      <td>6</td>\n",
       "      <td>10</td>\n",
       "      <td>10</td>\n",
       "    </tr>\n",
       "  </tbody>\n",
       "</table>\n",
       "</div>"
      ],
      "text/plain": [
       "  school sex  age address famsize Pstatus  Medu  Fedu     Mjob      Fjob  \\\n",
       "0     GP   F   18       U     GT3       A     4     4  at_home   teacher   \n",
       "1     GP   F   17       U     GT3       T     1     1  at_home     other   \n",
       "2     GP   F   15       U     LE3       T     1     1  at_home     other   \n",
       "3     GP   F   15       U     GT3       T     4     2   health  services   \n",
       "4     GP   F   16       U     GT3       T     3     3    other     other   \n",
       "\n",
       "   reason guardian  traveltime  studytime  failures schoolsup famsup paid  \\\n",
       "0  course   mother           2          2         0       yes     no   no   \n",
       "1  course   father           1          2         0        no    yes   no   \n",
       "2   other   mother           1          2         3       yes     no  yes   \n",
       "3    home   mother           1          3         0        no    yes  yes   \n",
       "4    home   father           1          2         0        no    yes  yes   \n",
       "\n",
       "  activities nursery higher internet romantic  famrel  freetime  goout  Dalc  \\\n",
       "0         no     yes    yes       no       no       4         3      4     1   \n",
       "1         no      no    yes      yes       no       5         3      3     1   \n",
       "2         no     yes    yes      yes       no       4         3      2     2   \n",
       "3        yes     yes    yes      yes      yes       3         2      2     1   \n",
       "4         no     yes    yes       no       no       4         3      2     1   \n",
       "\n",
       "   Walc  health  absences  G1  G2  G3  \n",
       "0     1       3         6   5   6   6  \n",
       "1     1       3         4   5   5   6  \n",
       "2     3       3        10   7   8  10  \n",
       "3     1       5         2  15  14  15  \n",
       "4     2       5         4   6  10  10  "
      ]
     },
     "execution_count": 4,
     "metadata": {},
     "output_type": "execute_result"
    }
   ],
   "source": [
    "# visualise the dataset\n",
    "data.head()"
   ]
  },
  {
   "cell_type": "markdown",
   "id": "64104c20-0781-4897-8f57-e03d8a646eef",
   "metadata": {},
   "source": [
    "The target label, 'G3, has a strong correlation with 'G2' and 'G1'. This is because 'G3' is the final grade while 'G1' and 'G2' correspond to the first and second period grades for the course. It would be more difficult to predict 'G3' without them but the predictions would be more useful.\n",
    "\n",
    "To this effect, we will drop 'G1' and 'G2' from the dataframe for our analysis."
   ]
  },
  {
   "cell_type": "code",
   "execution_count": 5,
   "id": "91b57c59-1b23-403b-855b-29f4e46bb132",
   "metadata": {},
   "outputs": [],
   "source": [
    "data = data.drop(['G1','G2'],axis=1)"
   ]
  },
  {
   "cell_type": "code",
   "execution_count": 6,
   "id": "5260d62a-6293-4934-9a0d-3d886bfc47b8",
   "metadata": {},
   "outputs": [
    {
     "name": "stdout",
     "output_type": "stream",
     "text": [
      "Number of rows: 395\n",
      "Number of columns: 31\n"
     ]
    }
   ],
   "source": [
    "print(f'Number of rows: {data.shape[0]}')\n",
    "print(f'Number of columns: {data.shape[1]}')"
   ]
  },
  {
   "cell_type": "code",
   "execution_count": 7,
   "id": "de90df3a-a319-49b4-af0b-9ec8d96a0709",
   "metadata": {},
   "outputs": [
    {
     "data": {
      "text/html": [
       "<div>\n",
       "<style scoped>\n",
       "    .dataframe tbody tr th:only-of-type {\n",
       "        vertical-align: middle;\n",
       "    }\n",
       "\n",
       "    .dataframe tbody tr th {\n",
       "        vertical-align: top;\n",
       "    }\n",
       "\n",
       "    .dataframe thead th {\n",
       "        text-align: right;\n",
       "    }\n",
       "</style>\n",
       "<table border=\"1\" class=\"dataframe\">\n",
       "  <thead>\n",
       "    <tr style=\"text-align: right;\">\n",
       "      <th></th>\n",
       "      <th>school</th>\n",
       "      <th>sex</th>\n",
       "      <th>age</th>\n",
       "      <th>address</th>\n",
       "      <th>famsize</th>\n",
       "      <th>Pstatus</th>\n",
       "      <th>Medu</th>\n",
       "      <th>Fedu</th>\n",
       "      <th>Mjob</th>\n",
       "      <th>Fjob</th>\n",
       "      <th>reason</th>\n",
       "      <th>guardian</th>\n",
       "      <th>traveltime</th>\n",
       "      <th>studytime</th>\n",
       "      <th>failures</th>\n",
       "      <th>schoolsup</th>\n",
       "      <th>famsup</th>\n",
       "      <th>paid</th>\n",
       "      <th>activities</th>\n",
       "      <th>nursery</th>\n",
       "      <th>higher</th>\n",
       "      <th>internet</th>\n",
       "      <th>romantic</th>\n",
       "      <th>famrel</th>\n",
       "      <th>freetime</th>\n",
       "      <th>goout</th>\n",
       "      <th>Dalc</th>\n",
       "      <th>Walc</th>\n",
       "      <th>health</th>\n",
       "      <th>absences</th>\n",
       "      <th>G3</th>\n",
       "    </tr>\n",
       "  </thead>\n",
       "  <tbody>\n",
       "    <tr>\n",
       "      <th>0</th>\n",
       "      <td>GP</td>\n",
       "      <td>F</td>\n",
       "      <td>18</td>\n",
       "      <td>U</td>\n",
       "      <td>GT3</td>\n",
       "      <td>A</td>\n",
       "      <td>4</td>\n",
       "      <td>4</td>\n",
       "      <td>at_home</td>\n",
       "      <td>teacher</td>\n",
       "      <td>course</td>\n",
       "      <td>mother</td>\n",
       "      <td>2</td>\n",
       "      <td>2</td>\n",
       "      <td>0</td>\n",
       "      <td>yes</td>\n",
       "      <td>no</td>\n",
       "      <td>no</td>\n",
       "      <td>no</td>\n",
       "      <td>yes</td>\n",
       "      <td>yes</td>\n",
       "      <td>no</td>\n",
       "      <td>no</td>\n",
       "      <td>4</td>\n",
       "      <td>3</td>\n",
       "      <td>4</td>\n",
       "      <td>1</td>\n",
       "      <td>1</td>\n",
       "      <td>3</td>\n",
       "      <td>6</td>\n",
       "      <td>6</td>\n",
       "    </tr>\n",
       "    <tr>\n",
       "      <th>1</th>\n",
       "      <td>GP</td>\n",
       "      <td>F</td>\n",
       "      <td>17</td>\n",
       "      <td>U</td>\n",
       "      <td>GT3</td>\n",
       "      <td>T</td>\n",
       "      <td>1</td>\n",
       "      <td>1</td>\n",
       "      <td>at_home</td>\n",
       "      <td>other</td>\n",
       "      <td>course</td>\n",
       "      <td>father</td>\n",
       "      <td>1</td>\n",
       "      <td>2</td>\n",
       "      <td>0</td>\n",
       "      <td>no</td>\n",
       "      <td>yes</td>\n",
       "      <td>no</td>\n",
       "      <td>no</td>\n",
       "      <td>no</td>\n",
       "      <td>yes</td>\n",
       "      <td>yes</td>\n",
       "      <td>no</td>\n",
       "      <td>5</td>\n",
       "      <td>3</td>\n",
       "      <td>3</td>\n",
       "      <td>1</td>\n",
       "      <td>1</td>\n",
       "      <td>3</td>\n",
       "      <td>4</td>\n",
       "      <td>6</td>\n",
       "    </tr>\n",
       "    <tr>\n",
       "      <th>2</th>\n",
       "      <td>GP</td>\n",
       "      <td>F</td>\n",
       "      <td>15</td>\n",
       "      <td>U</td>\n",
       "      <td>LE3</td>\n",
       "      <td>T</td>\n",
       "      <td>1</td>\n",
       "      <td>1</td>\n",
       "      <td>at_home</td>\n",
       "      <td>other</td>\n",
       "      <td>other</td>\n",
       "      <td>mother</td>\n",
       "      <td>1</td>\n",
       "      <td>2</td>\n",
       "      <td>3</td>\n",
       "      <td>yes</td>\n",
       "      <td>no</td>\n",
       "      <td>yes</td>\n",
       "      <td>no</td>\n",
       "      <td>yes</td>\n",
       "      <td>yes</td>\n",
       "      <td>yes</td>\n",
       "      <td>no</td>\n",
       "      <td>4</td>\n",
       "      <td>3</td>\n",
       "      <td>2</td>\n",
       "      <td>2</td>\n",
       "      <td>3</td>\n",
       "      <td>3</td>\n",
       "      <td>10</td>\n",
       "      <td>10</td>\n",
       "    </tr>\n",
       "    <tr>\n",
       "      <th>3</th>\n",
       "      <td>GP</td>\n",
       "      <td>F</td>\n",
       "      <td>15</td>\n",
       "      <td>U</td>\n",
       "      <td>GT3</td>\n",
       "      <td>T</td>\n",
       "      <td>4</td>\n",
       "      <td>2</td>\n",
       "      <td>health</td>\n",
       "      <td>services</td>\n",
       "      <td>home</td>\n",
       "      <td>mother</td>\n",
       "      <td>1</td>\n",
       "      <td>3</td>\n",
       "      <td>0</td>\n",
       "      <td>no</td>\n",
       "      <td>yes</td>\n",
       "      <td>yes</td>\n",
       "      <td>yes</td>\n",
       "      <td>yes</td>\n",
       "      <td>yes</td>\n",
       "      <td>yes</td>\n",
       "      <td>yes</td>\n",
       "      <td>3</td>\n",
       "      <td>2</td>\n",
       "      <td>2</td>\n",
       "      <td>1</td>\n",
       "      <td>1</td>\n",
       "      <td>5</td>\n",
       "      <td>2</td>\n",
       "      <td>15</td>\n",
       "    </tr>\n",
       "    <tr>\n",
       "      <th>4</th>\n",
       "      <td>GP</td>\n",
       "      <td>F</td>\n",
       "      <td>16</td>\n",
       "      <td>U</td>\n",
       "      <td>GT3</td>\n",
       "      <td>T</td>\n",
       "      <td>3</td>\n",
       "      <td>3</td>\n",
       "      <td>other</td>\n",
       "      <td>other</td>\n",
       "      <td>home</td>\n",
       "      <td>father</td>\n",
       "      <td>1</td>\n",
       "      <td>2</td>\n",
       "      <td>0</td>\n",
       "      <td>no</td>\n",
       "      <td>yes</td>\n",
       "      <td>yes</td>\n",
       "      <td>no</td>\n",
       "      <td>yes</td>\n",
       "      <td>yes</td>\n",
       "      <td>no</td>\n",
       "      <td>no</td>\n",
       "      <td>4</td>\n",
       "      <td>3</td>\n",
       "      <td>2</td>\n",
       "      <td>1</td>\n",
       "      <td>2</td>\n",
       "      <td>5</td>\n",
       "      <td>4</td>\n",
       "      <td>10</td>\n",
       "    </tr>\n",
       "  </tbody>\n",
       "</table>\n",
       "</div>"
      ],
      "text/plain": [
       "  school sex  age address famsize Pstatus  Medu  Fedu     Mjob      Fjob  \\\n",
       "0     GP   F   18       U     GT3       A     4     4  at_home   teacher   \n",
       "1     GP   F   17       U     GT3       T     1     1  at_home     other   \n",
       "2     GP   F   15       U     LE3       T     1     1  at_home     other   \n",
       "3     GP   F   15       U     GT3       T     4     2   health  services   \n",
       "4     GP   F   16       U     GT3       T     3     3    other     other   \n",
       "\n",
       "   reason guardian  traveltime  studytime  failures schoolsup famsup paid  \\\n",
       "0  course   mother           2          2         0       yes     no   no   \n",
       "1  course   father           1          2         0        no    yes   no   \n",
       "2   other   mother           1          2         3       yes     no  yes   \n",
       "3    home   mother           1          3         0        no    yes  yes   \n",
       "4    home   father           1          2         0        no    yes  yes   \n",
       "\n",
       "  activities nursery higher internet romantic  famrel  freetime  goout  Dalc  \\\n",
       "0         no     yes    yes       no       no       4         3      4     1   \n",
       "1         no      no    yes      yes       no       5         3      3     1   \n",
       "2         no     yes    yes      yes       no       4         3      2     2   \n",
       "3        yes     yes    yes      yes      yes       3         2      2     1   \n",
       "4         no     yes    yes       no       no       4         3      2     1   \n",
       "\n",
       "   Walc  health  absences  G3  \n",
       "0     1       3         6   6  \n",
       "1     1       3         4   6  \n",
       "2     3       3        10  10  \n",
       "3     1       5         2  15  \n",
       "4     2       5         4  10  "
      ]
     },
     "execution_count": 7,
     "metadata": {},
     "output_type": "execute_result"
    }
   ],
   "source": [
    "data.head()"
   ]
  },
  {
   "cell_type": "markdown",
   "id": "67783107-dced-4695-a38a-0b686b442a5c",
   "metadata": {},
   "source": [
    "## Analysis\n",
    "\n",
    "**We will analyse the following:**\n",
    "\n",
    "1. The Target Variable\n",
    "\n",
    "2. Variable Types - Categorical and Numerical\n",
    "\n",
    "3. Missing Data\n",
    "\n",
    "4. Numerical Variables - Discrete and Continuous\n",
    "\n",
    "5. Categorical Variables - Cardinality and Rare Labels"
   ]
  },
  {
   "cell_type": "markdown",
   "id": "c4101923-365a-4788-8566-55138e60f87d",
   "metadata": {},
   "source": [
    "## Target\n",
    "\n",
    "Let's begin by exploring the target distribution."
   ]
  },
  {
   "cell_type": "code",
   "execution_count": 8,
   "id": "ff94115f-adc2-4ed2-947d-2daed037d55a",
   "metadata": {},
   "outputs": [
    {
     "data": {
      "text/plain": [
       "<AxesSubplot:xlabel='G3', ylabel='Count'>"
      ]
     },
     "execution_count": 8,
     "metadata": {},
     "output_type": "execute_result"
    },
    {
     "data": {
      "image/png": "[encoded data removed]",
      "text/plain": [
       "<Figure size 864x504 with 1 Axes>"
      ]
     },
     "metadata": {},
     "output_type": "display_data"
    }
   ],
   "source": [
    "plt.figure(figsize=(12,7))\n",
    "sns.histplot(x='G3',data=data,kde=True,bins=20,color='blue')"
   ]
  },
  {
   "cell_type": "markdown",
   "id": "165f265b-44ab-4d54-8366-88a3df561c89",
   "metadata": {},
   "source": [
    "We can see that we have quite a high number of people who scored 0 in the course. It is clear from the plot that these would be students who put absolutely no effort into the course considering the next lowest score after that starts around 5. We could analyse these students in a separate notebook.\n",
    "\n",
    "We also notice the scores are clustered around 10.0 which could technically be the cut-off mark for a passing grade. We also do not have have high number of exceptional perfomers (>17.5) in the group. \n",
    "\n",
    "With the exception zero-score student sample, the distribution looks pretty normal (per the kde plot). To be sure about this assertion, we can run a couple of normality tests. This will determine whether or not we use parametric or non-paramteric methods in deciding the association/relationship with the independent variables in the feature space.\n",
    "\n",
    "Our normality test will include graphical and statistical methods."
   ]
  },
  {
   "cell_type": "markdown",
   "id": "14ded515-60a3-407e-9f8e-1cb31bccfcd2",
   "metadata": {},
   "source": [
    "### Quantile-Quantile Plot"
   ]
  },
  {
   "cell_type": "code",
   "execution_count": 9,
   "id": "1b51f172-407e-4484-8c6f-2dcf52cb5371",
   "metadata": {},
   "outputs": [],
   "source": [
    "from statsmodels.graphics.gofplots import qqplot"
   ]
  },
  {
   "cell_type": "code",
   "execution_count": 10,
   "id": "5caa748c-6527-4981-a7c9-3e90998d8496",
   "metadata": {},
   "outputs": [
    {
     "name": "stderr",
     "output_type": "stream",
     "text": [
      "/opt/anaconda3/lib/python3.9/site-packages/statsmodels/graphics/gofplots.py:993: UserWarning: marker is redundantly defined by the 'marker' keyword argument and the fmt string \"bo\" (-> marker='o'). The keyword argument will take precedence.\n",
      "  ax.plot(x, y, fmt, **plot_style)\n"
     ]
    },
    {
     "data": {
      "image/png": "[encoded data removed]",
      "text/plain": [
       "<Figure size 432x288 with 1 Axes>"
      ]
     },
     "execution_count": 10,
     "metadata": {},
     "output_type": "execute_result"
    },
    {
     "data": {
      "image/png": "[encoded data removed]",
      "text/plain": [
       "<Figure size 432x288 with 1 Axes>"
      ]
     },
     "metadata": {},
     "output_type": "display_data"
    }
   ],
   "source": [
    "qqplot(data['G3'],line='s')"
   ]
  },
  {
   "cell_type": "markdown",
   "id": "13fc409f-c62e-4694-8508-45ce62bcb501",
   "metadata": {},
   "source": [
    "Notice how we have a large number of points outside the line than we have points actually touching the line."
   ]
  },
  {
   "cell_type": "code",
   "execution_count": 11,
   "id": "5fdcd146-00b2-4f44-b965-318d36bc44dd",
   "metadata": {},
   "outputs": [
    {
     "name": "stderr",
     "output_type": "stream",
     "text": [
      "/opt/anaconda3/lib/python3.9/site-packages/statsmodels/graphics/gofplots.py:993: UserWarning: marker is redundantly defined by the 'marker' keyword argument and the fmt string \"bo\" (-> marker='o'). The keyword argument will take precedence.\n",
      "  ax.plot(x, y, fmt, **plot_style)\n"
     ]
    },
    {
     "data": {
      "image/png": "[encoded data removed]",
      "text/plain": [
       "<Figure size 432x288 with 1 Axes>"
      ]
     },
     "execution_count": 11,
     "metadata": {},
     "output_type": "execute_result"
    },
    {
     "data": {
      "image/png": "[encoded data removed]",
      "text/plain": [
       "<Figure size 432x288 with 1 Axes>"
      ]
     },
     "metadata": {},
     "output_type": "display_data"
    }
   ],
   "source": [
    "tmp = data.copy()\n",
    "tmp = tmp[tmp['G3']!=0]['G3']\n",
    "qqplot(tmp,line='s')"
   ]
  },
  {
   "cell_type": "markdown",
   "id": "da86d329-651a-40fb-b2b3-7dd7d4e916c3",
   "metadata": {},
   "source": [
    "### Shapiro-Wilk Test"
   ]
  },
  {
   "cell_type": "code",
   "execution_count": 12,
   "id": "601ace44-d52b-4617-a4a3-191e18c88f95",
   "metadata": {},
   "outputs": [],
   "source": [
    "from scipy.stats import shapiro"
   ]
  },
  {
   "cell_type": "code",
   "execution_count": 13,
   "id": "089be63a-434e-49cd-aa61-96245b6ab110",
   "metadata": {},
   "outputs": [],
   "source": [
    "stat, p = shapiro(data['G3'])"
   ]
  },
  {
   "cell_type": "code",
   "execution_count": 14,
   "id": "17f6e75a-87f6-4970-8b99-d882d1f50d47",
   "metadata": {},
   "outputs": [
    {
     "name": "stdout",
     "output_type": "stream",
     "text": [
      "Sample does not look Gaussian (reject H0)\n"
     ]
    }
   ],
   "source": [
    "if p > 0.05:\n",
    "    print('Sample looks Gaussian (fail to reject H0)')\n",
    "else:\n",
    "    print('Sample does not look Gaussian (reject H0)')"
   ]
  },
  {
   "cell_type": "code",
   "execution_count": 15,
   "id": "c732133d-82ec-43af-9b1a-57a0a4e0635f",
   "metadata": {},
   "outputs": [
    {
     "name": "stdout",
     "output_type": "stream",
     "text": [
      "Sample does not look Gaussian (reject H0)\n"
     ]
    }
   ],
   "source": [
    "stat, p = shapiro(tmp)\n",
    "if p > 0.05:\n",
    "    print('Sample looks Gaussian (fail to reject H0)')\n",
    "else:\n",
    "    print('Sample does not look Gaussian (reject H0)')"
   ]
  },
  {
   "cell_type": "markdown",
   "id": "235e583d-3b1b-46a5-ad1f-45efaae26c7a",
   "metadata": {},
   "source": [
    "### D'Agostino's Test"
   ]
  },
  {
   "cell_type": "code",
   "execution_count": 16,
   "id": "3d4fc8b4-8d6e-47ab-bcfb-970bbb7a3e30",
   "metadata": {},
   "outputs": [],
   "source": [
    "from scipy.stats import normaltest"
   ]
  },
  {
   "cell_type": "code",
   "execution_count": 17,
   "id": "2b0142ff-a57d-43f2-b4a9-c3e8dcb52799",
   "metadata": {},
   "outputs": [],
   "source": [
    "stat, p = normaltest(data['G3'])"
   ]
  },
  {
   "cell_type": "code",
   "execution_count": 18,
   "id": "60afa55b-6394-4b02-8f65-7167afe03ae4",
   "metadata": {},
   "outputs": [
    {
     "name": "stdout",
     "output_type": "stream",
     "text": [
      "Sample does not look Gaussian (reject H0)\n"
     ]
    }
   ],
   "source": [
    "if p > 0.05:\n",
    "    print('Sample looks Gaussian (fail to reject H0)')\n",
    "else:\n",
    "    print('Sample does not look Gaussian (reject H0)')"
   ]
  },
  {
   "cell_type": "code",
   "execution_count": 19,
   "id": "991ef70f-124f-4472-98f7-cb33b68eb978",
   "metadata": {},
   "outputs": [
    {
     "name": "stdout",
     "output_type": "stream",
     "text": [
      "Sample does not look Gaussian (reject H0)\n"
     ]
    }
   ],
   "source": [
    "stat, p = normaltest(tmp)\n",
    "if p > 0.05:\n",
    "    print('Sample looks Gaussian (fail to reject H0)')\n",
    "else:\n",
    "    print('Sample does not look Gaussian (reject H0)')"
   ]
  },
  {
   "cell_type": "markdown",
   "id": "fc8fe666-5463-4a23-84c6-31d41dee546d",
   "metadata": {},
   "source": [
    "### Anderson-Darling Test"
   ]
  },
  {
   "cell_type": "code",
   "execution_count": 20,
   "id": "329384fd-7246-472e-84a0-5a85611a2f44",
   "metadata": {},
   "outputs": [],
   "source": [
    "from scipy.stats import anderson"
   ]
  },
  {
   "cell_type": "code",
   "execution_count": 21,
   "id": "1bd1f79a-d9ed-4266-9da1-6c7cdd80b4da",
   "metadata": {},
   "outputs": [],
   "source": [
    "result = anderson(data['G3'])"
   ]
  },
  {
   "cell_type": "code",
   "execution_count": 22,
   "id": "70c03f20-133f-4ab6-ab29-19e415f049a7",
   "metadata": {},
   "outputs": [
    {
     "name": "stdout",
     "output_type": "stream",
     "text": [
      "15.0: 0.57, data does not look normal (reject HO)\n",
      "10.0: 0.65, data does not look normal (reject HO)\n",
      "5.0: 0.779, data does not look normal (reject HO)\n",
      "2.5: 0.909, data does not look normal (reject HO)\n",
      "1.0: 1.081, data does not look normal (reject HO)\n"
     ]
    }
   ],
   "source": [
    "for i in range(len(result.critical_values)):\n",
    "    sl,cv = result.significance_level[i], result.critical_values[i]\n",
    "    if result.statistic < result.critical_values[i]:\n",
    "        print(f'{sl}: {cv}, data looks normal (fail to reject HO)')\n",
    "    else:\n",
    "        print(f'{sl}: {cv}, data does not look normal (reject HO)')"
   ]
  },
  {
   "cell_type": "code",
   "execution_count": 23,
   "id": "f6a42334-6c3a-400f-b9ba-15b5dd0a82d3",
   "metadata": {},
   "outputs": [
    {
     "name": "stdout",
     "output_type": "stream",
     "text": [
      "15.0: 0.57, data does not look normal (reject HO)\n",
      "10.0: 0.649, data does not look normal (reject HO)\n",
      "5.0: 0.778, data does not look normal (reject HO)\n",
      "2.5: 0.908, data does not look normal (reject HO)\n",
      "1.0: 1.08, data does not look normal (reject HO)\n"
     ]
    }
   ],
   "source": [
    "result = anderson(tmp)\n",
    "\n",
    "for i in range(len(result.critical_values)):\n",
    "    sl,cv = result.significance_level[i], result.critical_values[i]\n",
    "    if result.statistic < result.critical_values[i]:\n",
    "        print(f'{sl}: {cv}, data looks normal (fail to reject HO)')\n",
    "    else:\n",
    "        print(f'{sl}: {cv}, data does not look normal (reject HO)')"
   ]
  },
  {
   "cell_type": "code",
   "execution_count": 24,
   "id": "8b11cf5c-6e57-4e9e-a338-bb1e45a10962",
   "metadata": {},
   "outputs": [],
   "source": [
    "from scipy.stats import boxcox"
   ]
  },
  {
   "cell_type": "code",
   "execution_count": 25,
   "id": "78097f5c-3697-4538-b130-3567dfec09fd",
   "metadata": {},
   "outputs": [],
   "source": [
    "tmp = data.copy()\n",
    "tmp = tmp[tmp['G3']!=0]"
   ]
  },
  {
   "cell_type": "code",
   "execution_count": 26,
   "id": "a9ae6a73-e6d0-4962-815e-a5e13814eb44",
   "metadata": {},
   "outputs": [],
   "source": [
    "tmp['G3'] = boxcox(tmp['G3'],0.5)"
   ]
  },
  {
   "cell_type": "code",
   "execution_count": 27,
   "id": "17fd12fa-5da5-4e22-9311-419155c2e090",
   "metadata": {},
   "outputs": [
    {
     "data": {
      "text/plain": [
       "<AxesSubplot:>"
      ]
     },
     "execution_count": 27,
     "metadata": {},
     "output_type": "execute_result"
    },
    {
     "data": {
      "image/png": "[encoded data removed]",
      "text/plain": [
       "<Figure size 432x288 with 1 Axes>"
      ]
     },
     "metadata": {},
     "output_type": "display_data"
    }
   ],
   "source": [
    "tmp['G3'].hist()"
   ]
  },
  {
   "cell_type": "code",
   "execution_count": 28,
   "id": "4383665f-9da2-4979-a624-588e47b6acc5",
   "metadata": {},
   "outputs": [
    {
     "name": "stderr",
     "output_type": "stream",
     "text": [
      "/opt/anaconda3/lib/python3.9/site-packages/statsmodels/graphics/gofplots.py:993: UserWarning: marker is redundantly defined by the 'marker' keyword argument and the fmt string \"bo\" (-> marker='o'). The keyword argument will take precedence.\n",
      "  ax.plot(x, y, fmt, **plot_style)\n"
     ]
    },
    {
     "data": {
      "image/png": "[encoded data removed]",
      "text/plain": [
       "<Figure size 432x288 with 1 Axes>"
      ]
     },
     "execution_count": 28,
     "metadata": {},
     "output_type": "execute_result"
    },
    {
     "data": {
      "image/png": "[encoded data removed]",
      "text/plain": [
       "<Figure size 432x288 with 1 Axes>"
      ]
     },
     "metadata": {},
     "output_type": "display_data"
    }
   ],
   "source": [
    "qqplot(tmp['G3'],line='s')"
   ]
  },
  {
   "cell_type": "code",
   "execution_count": 29,
   "id": "291b3611-344e-4ea9-966e-d8fcbb3be446",
   "metadata": {},
   "outputs": [
    {
     "name": "stdout",
     "output_type": "stream",
     "text": [
      "Sample does not look Gaussian (reject H0)\n"
     ]
    }
   ],
   "source": [
    "stat, p = shapiro(tmp['G3'])\n",
    "\n",
    "if p > 0.05:\n",
    "    print('Sample looks Gaussian (fail to reject H0)')\n",
    "else:\n",
    "    print('Sample does not look Gaussian (reject H0)')"
   ]
  },
  {
   "cell_type": "markdown",
   "id": "063e4fd0-f791-44c6-93b5-2993549abc5e",
   "metadata": {},
   "source": [
    "Even after variable transformation and controlling for outliers, none of the tests have indicated that our data is Gaussian-like. This is a string indication that we will need to adopt non-parametric methods for our statistical tests during feature selection."
   ]
  },
  {
   "cell_type": "markdown",
   "id": "7d78fcf9-2306-4e42-873b-686eee6f20f9",
   "metadata": {},
   "source": [
    "## Variable Types"
   ]
  },
  {
   "cell_type": "markdown",
   "id": "3c29533f-2145-45e4-a618-5dbf85e0d27a",
   "metadata": {},
   "source": [
    "Let's identify the categorical and numerical variables."
   ]
  },
  {
   "cell_type": "code",
   "execution_count": 30,
   "id": "c3ca090a-0c3e-4689-90fc-3f677d46b88d",
   "metadata": {},
   "outputs": [
    {
     "data": {
      "text/plain": [
       "['school',\n",
       " 'sex',\n",
       " 'address',\n",
       " 'famsize',\n",
       " 'Pstatus',\n",
       " 'Mjob',\n",
       " 'Fjob',\n",
       " 'reason',\n",
       " 'guardian',\n",
       " 'schoolsup',\n",
       " 'famsup',\n",
       " 'paid',\n",
       " 'activities',\n",
       " 'nursery',\n",
       " 'higher',\n",
       " 'internet',\n",
       " 'romantic']"
      ]
     },
     "execution_count": 30,
     "metadata": {},
     "output_type": "execute_result"
    }
   ],
   "source": [
    "# to identify categorical variables,\n",
    "# we will capture those of type *object*\n",
    "cat_vars = [var for var in data.columns if data[var].dtype == 'O']\n",
    "\n",
    "# print out the categorical variables\n",
    "cat_vars"
   ]
  },
  {
   "cell_type": "code",
   "execution_count": 31,
   "id": "fa116689-2fb2-4fc6-93d8-a5dae2e1d0b3",
   "metadata": {},
   "outputs": [
    {
     "data": {
      "text/plain": [
       "17"
      ]
     },
     "execution_count": 31,
     "metadata": {},
     "output_type": "execute_result"
    }
   ],
   "source": [
    "# number of categorical variables\n",
    "len(cat_vars)"
   ]
  },
  {
   "cell_type": "code",
   "execution_count": 32,
   "id": "0d8ceec6-f4bf-447f-9501-55a1eedf2115",
   "metadata": {},
   "outputs": [
    {
     "data": {
      "text/plain": [
       "['age',\n",
       " 'Medu',\n",
       " 'Fedu',\n",
       " 'traveltime',\n",
       " 'studytime',\n",
       " 'failures',\n",
       " 'famrel',\n",
       " 'freetime',\n",
       " 'goout',\n",
       " 'Dalc',\n",
       " 'Walc',\n",
       " 'health',\n",
       " 'absences']"
      ]
     },
     "execution_count": 32,
     "metadata": {},
     "output_type": "execute_result"
    }
   ],
   "source": [
    "# identify the numerical variables\n",
    "num_vars = [var for var in data.columns if var not in cat_vars and var != 'G3']\n",
    "\n",
    "# print out the numerical variables\n",
    "num_vars"
   ]
  },
  {
   "cell_type": "code",
   "execution_count": 33,
   "id": "fa2613e9-e6f3-425f-bc3a-820d91f7dcb7",
   "metadata": {},
   "outputs": [
    {
     "data": {
      "text/plain": [
       "13"
      ]
     },
     "execution_count": 33,
     "metadata": {},
     "output_type": "execute_result"
    }
   ],
   "source": [
    "# number of numerical variables\n",
    "len(num_vars)"
   ]
  },
  {
   "cell_type": "markdown",
   "id": "13fc80e2-a138-4095-8169-5cad67141518",
   "metadata": {},
   "source": [
    "# Missing Values"
   ]
  },
  {
   "cell_type": "markdown",
   "id": "de0adc54-792c-4dad-973e-e13224e7dac1",
   "metadata": {},
   "source": [
    "Let's go ahead and find out which variables of the dataset contains missing values."
   ]
  },
  {
   "cell_type": "code",
   "execution_count": 34,
   "id": "926aea14-0168-43f0-bbc0-8cdf3ee348bf",
   "metadata": {},
   "outputs": [
    {
     "data": {
      "text/plain": [
       "Series([], dtype: float64)"
      ]
     },
     "execution_count": 34,
     "metadata": {},
     "output_type": "execute_result"
    }
   ],
   "source": [
    "# make a list of the variables that contain missing values\n",
    "vars_with_na = [var for var in data.columns if data[var].isnull().sum() > 0]\n",
    "\n",
    "# determine percentage of missing values (expressed as decimals)\n",
    "# and display ordered by % of missing data\n",
    "data[vars_with_na].isnull().mean().sort_values(ascending=False)"
   ]
  },
  {
   "cell_type": "markdown",
   "id": "c9946a69-5e4d-4c19-94f8-b20802f5c55a",
   "metadata": {},
   "source": [
    "There are no recorded null values in the data. However, null values aren't always the only placeholders for missing values. They could also be represented with different string objects that indicate data is missing, particularly for categorical variables. To find these, we can loop through all the columns, grab the unique values and identify and value suggesting data is missing."
   ]
  },
  {
   "cell_type": "code",
   "execution_count": 35,
   "id": "05983c44-ef68-4dc2-b7eb-f0d9077dfe3b",
   "metadata": {},
   "outputs": [
    {
     "name": "stdout",
     "output_type": "stream",
     "text": [
      "school: ['GP' 'MS']\n",
      "sex: ['F' 'M']\n",
      "age: [18 17 15 16 19 22 20 21]\n",
      "address: ['U' 'R']\n",
      "famsize: ['GT3' 'LE3']\n",
      "Pstatus: ['A' 'T']\n",
      "Medu: [4 1 3 2 0]\n",
      "Fedu: [4 1 2 3 0]\n",
      "Mjob: ['at_home' 'health' 'other' 'services' 'teacher']\n",
      "Fjob: ['teacher' 'other' 'services' 'health' 'at_home']\n",
      "reason: ['course' 'other' 'home' 'reputation']\n",
      "guardian: ['mother' 'father' 'other']\n",
      "traveltime: [2 1 3 4]\n",
      "studytime: [2 3 1 4]\n",
      "failures: [0 3 2 1]\n",
      "schoolsup: ['yes' 'no']\n",
      "famsup: ['no' 'yes']\n",
      "paid: ['no' 'yes']\n",
      "activities: ['no' 'yes']\n",
      "nursery: ['yes' 'no']\n",
      "higher: ['yes' 'no']\n",
      "internet: ['no' 'yes']\n",
      "romantic: ['no' 'yes']\n",
      "famrel: [4 5 3 1 2]\n",
      "freetime: [3 2 4 1 5]\n",
      "goout: [4 3 2 1 5]\n",
      "Dalc: [1 2 5 3 4]\n",
      "Walc: [1 3 2 4 5]\n",
      "health: [3 5 1 2 4]\n",
      "absences: [ 6  4 10  2  0 16 14  7  8 25 12 54 18 26 20 56 24 28  5 13 15 22  3 21\n",
      "  1 75 30 19  9 11 38 40 23 17]\n",
      "G3: [ 6 10 15 11 19  9 12 14 16  5  8 17 18 13 20  7  0  4]\n"
     ]
    }
   ],
   "source": [
    "for col in data.columns:\n",
    "    print(f'{col}: {data[col].unique()}')"
   ]
  },
  {
   "cell_type": "markdown",
   "id": "fb25c1fc-68d8-4a5e-876c-8e2f0a84c67b",
   "metadata": {},
   "source": [
    "There are no strings or values indicating missing data from our search. We can concude the dataset doesn't have any missing values."
   ]
  },
  {
   "cell_type": "markdown",
   "id": "01830f80-554c-46cb-bc14-4124ff6bea9d",
   "metadata": {},
   "source": [
    "# Numerical Variables"
   ]
  },
  {
   "cell_type": "markdown",
   "id": "02a67c8d-c1db-4fa4-bf1f-d48ac04e5087",
   "metadata": {},
   "source": [
    "Let's go ahead and find out what numerical variables we have in the dataset."
   ]
  },
  {
   "cell_type": "code",
   "execution_count": 36,
   "id": "63a7ba6f-d5c0-4a7d-9f1c-9c9f88bbf18c",
   "metadata": {},
   "outputs": [
    {
     "name": "stdout",
     "output_type": "stream",
     "text": [
      "Number of numerical variables: 13\n"
     ]
    }
   ],
   "source": [
    "print(f'Number of numerical variables: {len(num_vars)}')"
   ]
  },
  {
   "cell_type": "code",
   "execution_count": 37,
   "id": "6d11db62-b092-42d5-a1c4-b02277ee3a8e",
   "metadata": {},
   "outputs": [
    {
     "data": {
      "text/html": [
       "<div>\n",
       "<style scoped>\n",
       "    .dataframe tbody tr th:only-of-type {\n",
       "        vertical-align: middle;\n",
       "    }\n",
       "\n",
       "    .dataframe tbody tr th {\n",
       "        vertical-align: top;\n",
       "    }\n",
       "\n",
       "    .dataframe thead th {\n",
       "        text-align: right;\n",
       "    }\n",
       "</style>\n",
       "<table border=\"1\" class=\"dataframe\">\n",
       "  <thead>\n",
       "    <tr style=\"text-align: right;\">\n",
       "      <th></th>\n",
       "      <th>age</th>\n",
       "      <th>Medu</th>\n",
       "      <th>Fedu</th>\n",
       "      <th>traveltime</th>\n",
       "      <th>studytime</th>\n",
       "      <th>failures</th>\n",
       "      <th>famrel</th>\n",
       "      <th>freetime</th>\n",
       "      <th>goout</th>\n",
       "      <th>Dalc</th>\n",
       "      <th>Walc</th>\n",
       "      <th>health</th>\n",
       "      <th>absences</th>\n",
       "    </tr>\n",
       "  </thead>\n",
       "  <tbody>\n",
       "    <tr>\n",
       "      <th>0</th>\n",
       "      <td>18</td>\n",
       "      <td>4</td>\n",
       "      <td>4</td>\n",
       "      <td>2</td>\n",
       "      <td>2</td>\n",
       "      <td>0</td>\n",
       "      <td>4</td>\n",
       "      <td>3</td>\n",
       "      <td>4</td>\n",
       "      <td>1</td>\n",
       "      <td>1</td>\n",
       "      <td>3</td>\n",
       "      <td>6</td>\n",
       "    </tr>\n",
       "    <tr>\n",
       "      <th>1</th>\n",
       "      <td>17</td>\n",
       "      <td>1</td>\n",
       "      <td>1</td>\n",
       "      <td>1</td>\n",
       "      <td>2</td>\n",
       "      <td>0</td>\n",
       "      <td>5</td>\n",
       "      <td>3</td>\n",
       "      <td>3</td>\n",
       "      <td>1</td>\n",
       "      <td>1</td>\n",
       "      <td>3</td>\n",
       "      <td>4</td>\n",
       "    </tr>\n",
       "    <tr>\n",
       "      <th>2</th>\n",
       "      <td>15</td>\n",
       "      <td>1</td>\n",
       "      <td>1</td>\n",
       "      <td>1</td>\n",
       "      <td>2</td>\n",
       "      <td>3</td>\n",
       "      <td>4</td>\n",
       "      <td>3</td>\n",
       "      <td>2</td>\n",
       "      <td>2</td>\n",
       "      <td>3</td>\n",
       "      <td>3</td>\n",
       "      <td>10</td>\n",
       "    </tr>\n",
       "    <tr>\n",
       "      <th>3</th>\n",
       "      <td>15</td>\n",
       "      <td>4</td>\n",
       "      <td>2</td>\n",
       "      <td>1</td>\n",
       "      <td>3</td>\n",
       "      <td>0</td>\n",
       "      <td>3</td>\n",
       "      <td>2</td>\n",
       "      <td>2</td>\n",
       "      <td>1</td>\n",
       "      <td>1</td>\n",
       "      <td>5</td>\n",
       "      <td>2</td>\n",
       "    </tr>\n",
       "    <tr>\n",
       "      <th>4</th>\n",
       "      <td>16</td>\n",
       "      <td>3</td>\n",
       "      <td>3</td>\n",
       "      <td>1</td>\n",
       "      <td>2</td>\n",
       "      <td>0</td>\n",
       "      <td>4</td>\n",
       "      <td>3</td>\n",
       "      <td>2</td>\n",
       "      <td>1</td>\n",
       "      <td>2</td>\n",
       "      <td>5</td>\n",
       "      <td>4</td>\n",
       "    </tr>\n",
       "  </tbody>\n",
       "</table>\n",
       "</div>"
      ],
      "text/plain": [
       "   age  Medu  Fedu  traveltime  studytime  failures  famrel  freetime  goout  \\\n",
       "0   18     4     4           2          2         0       4         3      4   \n",
       "1   17     1     1           1          2         0       5         3      3   \n",
       "2   15     1     1           1          2         3       4         3      2   \n",
       "3   15     4     2           1          3         0       3         2      2   \n",
       "4   16     3     3           1          2         0       4         3      2   \n",
       "\n",
       "   Dalc  Walc  health  absences  \n",
       "0     1     1       3         6  \n",
       "1     1     1       3         4  \n",
       "2     2     3       3        10  \n",
       "3     1     1       5         2  \n",
       "4     1     2       5         4  "
      ]
     },
     "execution_count": 37,
     "metadata": {},
     "output_type": "execute_result"
    }
   ],
   "source": [
    "data[num_vars].head()"
   ]
  },
  {
   "cell_type": "markdown",
   "id": "debf5e83-378b-471d-82d4-00c566a4d6c7",
   "metadata": {},
   "source": [
    "## Discrete Variables"
   ]
  },
  {
   "cell_type": "markdown",
   "id": "8d6e2a7f-c600-4db5-8047-0f7170294d67",
   "metadata": {},
   "source": [
    "Let's find the discrete variables in our numerical variables."
   ]
  },
  {
   "cell_type": "code",
   "execution_count": 38,
   "id": "7203ead1-f3df-4984-a3f4-26177613f7e4",
   "metadata": {},
   "outputs": [
    {
     "name": "stdout",
     "output_type": "stream",
     "text": [
      "Number of discrete variables: 12\n"
     ]
    }
   ],
   "source": [
    "discrete_vars = [var for var in num_vars if len(data[var].unique()) < 20]\n",
    "print(f'Number of discrete variables: {len(discrete_vars)}')"
   ]
  },
  {
   "cell_type": "code",
   "execution_count": 39,
   "id": "806ffda2-ae28-4f3a-a143-1d8667eb3478",
   "metadata": {},
   "outputs": [
    {
     "data": {
      "text/html": [
       "<div>\n",
       "<style scoped>\n",
       "    .dataframe tbody tr th:only-of-type {\n",
       "        vertical-align: middle;\n",
       "    }\n",
       "\n",
       "    .dataframe tbody tr th {\n",
       "        vertical-align: top;\n",
       "    }\n",
       "\n",
       "    .dataframe thead th {\n",
       "        text-align: right;\n",
       "    }\n",
       "</style>\n",
       "<table border=\"1\" class=\"dataframe\">\n",
       "  <thead>\n",
       "    <tr style=\"text-align: right;\">\n",
       "      <th></th>\n",
       "      <th>age</th>\n",
       "      <th>Medu</th>\n",
       "      <th>Fedu</th>\n",
       "      <th>traveltime</th>\n",
       "      <th>studytime</th>\n",
       "      <th>failures</th>\n",
       "      <th>famrel</th>\n",
       "      <th>freetime</th>\n",
       "      <th>goout</th>\n",
       "      <th>Dalc</th>\n",
       "      <th>Walc</th>\n",
       "      <th>health</th>\n",
       "    </tr>\n",
       "  </thead>\n",
       "  <tbody>\n",
       "    <tr>\n",
       "      <th>0</th>\n",
       "      <td>18</td>\n",
       "      <td>4</td>\n",
       "      <td>4</td>\n",
       "      <td>2</td>\n",
       "      <td>2</td>\n",
       "      <td>0</td>\n",
       "      <td>4</td>\n",
       "      <td>3</td>\n",
       "      <td>4</td>\n",
       "      <td>1</td>\n",
       "      <td>1</td>\n",
       "      <td>3</td>\n",
       "    </tr>\n",
       "    <tr>\n",
       "      <th>1</th>\n",
       "      <td>17</td>\n",
       "      <td>1</td>\n",
       "      <td>1</td>\n",
       "      <td>1</td>\n",
       "      <td>2</td>\n",
       "      <td>0</td>\n",
       "      <td>5</td>\n",
       "      <td>3</td>\n",
       "      <td>3</td>\n",
       "      <td>1</td>\n",
       "      <td>1</td>\n",
       "      <td>3</td>\n",
       "    </tr>\n",
       "    <tr>\n",
       "      <th>2</th>\n",
       "      <td>15</td>\n",
       "      <td>1</td>\n",
       "      <td>1</td>\n",
       "      <td>1</td>\n",
       "      <td>2</td>\n",
       "      <td>3</td>\n",
       "      <td>4</td>\n",
       "      <td>3</td>\n",
       "      <td>2</td>\n",
       "      <td>2</td>\n",
       "      <td>3</td>\n",
       "      <td>3</td>\n",
       "    </tr>\n",
       "    <tr>\n",
       "      <th>3</th>\n",
       "      <td>15</td>\n",
       "      <td>4</td>\n",
       "      <td>2</td>\n",
       "      <td>1</td>\n",
       "      <td>3</td>\n",
       "      <td>0</td>\n",
       "      <td>3</td>\n",
       "      <td>2</td>\n",
       "      <td>2</td>\n",
       "      <td>1</td>\n",
       "      <td>1</td>\n",
       "      <td>5</td>\n",
       "    </tr>\n",
       "    <tr>\n",
       "      <th>4</th>\n",
       "      <td>16</td>\n",
       "      <td>3</td>\n",
       "      <td>3</td>\n",
       "      <td>1</td>\n",
       "      <td>2</td>\n",
       "      <td>0</td>\n",
       "      <td>4</td>\n",
       "      <td>3</td>\n",
       "      <td>2</td>\n",
       "      <td>1</td>\n",
       "      <td>2</td>\n",
       "      <td>5</td>\n",
       "    </tr>\n",
       "  </tbody>\n",
       "</table>\n",
       "</div>"
      ],
      "text/plain": [
       "   age  Medu  Fedu  traveltime  studytime  failures  famrel  freetime  goout  \\\n",
       "0   18     4     4           2          2         0       4         3      4   \n",
       "1   17     1     1           1          2         0       5         3      3   \n",
       "2   15     1     1           1          2         3       4         3      2   \n",
       "3   15     4     2           1          3         0       3         2      2   \n",
       "4   16     3     3           1          2         0       4         3      2   \n",
       "\n",
       "   Dalc  Walc  health  \n",
       "0     1     1       3  \n",
       "1     1     1       3  \n",
       "2     2     3       3  \n",
       "3     1     1       5  \n",
       "4     1     2       5  "
      ]
     },
     "execution_count": 39,
     "metadata": {},
     "output_type": "execute_result"
    }
   ],
   "source": [
    "# visualise the discrete variables\n",
    "data[discrete_vars].head()"
   ]
  },
  {
   "cell_type": "code",
   "execution_count": 40,
   "id": "dbaf236c-0dc3-4b0f-addc-ec1d8883ced1",
   "metadata": {},
   "outputs": [
    {
     "name": "stdout",
     "output_type": "stream",
     "text": [
      "age: 8\n",
      "Medu: 5\n",
      "Fedu: 5\n",
      "traveltime: 4\n",
      "studytime: 4\n",
      "failures: 4\n",
      "famrel: 5\n",
      "freetime: 5\n",
      "goout: 5\n",
      "Dalc: 5\n",
      "Walc: 5\n",
      "health: 5\n"
     ]
    }
   ],
   "source": [
    "# print out the number of unique values per discrete variables\n",
    "for var in discrete_vars:\n",
    "    print(f'{var}: {data[var].nunique()}')"
   ]
  },
  {
   "cell_type": "markdown",
   "id": "97b9e3eb-b182-4438-8dce-e1eb2f47d2ed",
   "metadata": {},
   "source": [
    "Because we have established our data is non-normal, our analysis will exclude parametric methods and measures of central tendency. Instead, we will adpot nonparametric methods in observing and making inferences from the data. Nonparametric methods require ranking the data before applying them. We will rank our target since that is the variable our model/project will be attempting to explain."
   ]
  },
  {
   "cell_type": "code",
   "execution_count": 41,
   "id": "8196fb02-e0d9-4760-9bdb-bb51565fd955",
   "metadata": {},
   "outputs": [],
   "source": [
    "from scipy.stats import rankdata"
   ]
  },
  {
   "cell_type": "code",
   "execution_count": 42,
   "id": "980f2402-b6f4-459f-a27a-fe8b65ae90ff",
   "metadata": {},
   "outputs": [
    {
     "data": {
      "text/html": [
       "<div>\n",
       "<style scoped>\n",
       "    .dataframe tbody tr th:only-of-type {\n",
       "        vertical-align: middle;\n",
       "    }\n",
       "\n",
       "    .dataframe tbody tr th {\n",
       "        vertical-align: top;\n",
       "    }\n",
       "\n",
       "    .dataframe thead th {\n",
       "        text-align: right;\n",
       "    }\n",
       "</style>\n",
       "<table border=\"1\" class=\"dataframe\">\n",
       "  <thead>\n",
       "    <tr style=\"text-align: right;\">\n",
       "      <th></th>\n",
       "      <th>school</th>\n",
       "      <th>sex</th>\n",
       "      <th>age</th>\n",
       "      <th>address</th>\n",
       "      <th>famsize</th>\n",
       "      <th>Pstatus</th>\n",
       "      <th>Medu</th>\n",
       "      <th>Fedu</th>\n",
       "      <th>Mjob</th>\n",
       "      <th>Fjob</th>\n",
       "      <th>reason</th>\n",
       "      <th>guardian</th>\n",
       "      <th>traveltime</th>\n",
       "      <th>studytime</th>\n",
       "      <th>failures</th>\n",
       "      <th>schoolsup</th>\n",
       "      <th>famsup</th>\n",
       "      <th>paid</th>\n",
       "      <th>activities</th>\n",
       "      <th>nursery</th>\n",
       "      <th>higher</th>\n",
       "      <th>internet</th>\n",
       "      <th>romantic</th>\n",
       "      <th>famrel</th>\n",
       "      <th>freetime</th>\n",
       "      <th>goout</th>\n",
       "      <th>Dalc</th>\n",
       "      <th>Walc</th>\n",
       "      <th>health</th>\n",
       "      <th>absences</th>\n",
       "      <th>G3</th>\n",
       "      <th>rank</th>\n",
       "    </tr>\n",
       "  </thead>\n",
       "  <tbody>\n",
       "    <tr>\n",
       "      <th>296</th>\n",
       "      <td>GP</td>\n",
       "      <td>F</td>\n",
       "      <td>19</td>\n",
       "      <td>U</td>\n",
       "      <td>GT3</td>\n",
       "      <td>T</td>\n",
       "      <td>4</td>\n",
       "      <td>4</td>\n",
       "      <td>health</td>\n",
       "      <td>other</td>\n",
       "      <td>reputation</td>\n",
       "      <td>other</td>\n",
       "      <td>2</td>\n",
       "      <td>2</td>\n",
       "      <td>0</td>\n",
       "      <td>no</td>\n",
       "      <td>yes</td>\n",
       "      <td>yes</td>\n",
       "      <td>yes</td>\n",
       "      <td>yes</td>\n",
       "      <td>yes</td>\n",
       "      <td>yes</td>\n",
       "      <td>no</td>\n",
       "      <td>2</td>\n",
       "      <td>3</td>\n",
       "      <td>4</td>\n",
       "      <td>2</td>\n",
       "      <td>3</td>\n",
       "      <td>2</td>\n",
       "      <td>0</td>\n",
       "      <td>0</td>\n",
       "      <td>19.5</td>\n",
       "    </tr>\n",
       "    <tr>\n",
       "      <th>144</th>\n",
       "      <td>GP</td>\n",
       "      <td>M</td>\n",
       "      <td>17</td>\n",
       "      <td>U</td>\n",
       "      <td>GT3</td>\n",
       "      <td>T</td>\n",
       "      <td>2</td>\n",
       "      <td>1</td>\n",
       "      <td>other</td>\n",
       "      <td>other</td>\n",
       "      <td>home</td>\n",
       "      <td>mother</td>\n",
       "      <td>1</td>\n",
       "      <td>1</td>\n",
       "      <td>3</td>\n",
       "      <td>no</td>\n",
       "      <td>yes</td>\n",
       "      <td>no</td>\n",
       "      <td>no</td>\n",
       "      <td>yes</td>\n",
       "      <td>yes</td>\n",
       "      <td>yes</td>\n",
       "      <td>no</td>\n",
       "      <td>5</td>\n",
       "      <td>4</td>\n",
       "      <td>5</td>\n",
       "      <td>1</td>\n",
       "      <td>2</td>\n",
       "      <td>5</td>\n",
       "      <td>0</td>\n",
       "      <td>0</td>\n",
       "      <td>19.5</td>\n",
       "    </tr>\n",
       "    <tr>\n",
       "      <th>168</th>\n",
       "      <td>GP</td>\n",
       "      <td>F</td>\n",
       "      <td>16</td>\n",
       "      <td>U</td>\n",
       "      <td>GT3</td>\n",
       "      <td>T</td>\n",
       "      <td>2</td>\n",
       "      <td>2</td>\n",
       "      <td>other</td>\n",
       "      <td>other</td>\n",
       "      <td>home</td>\n",
       "      <td>mother</td>\n",
       "      <td>1</td>\n",
       "      <td>2</td>\n",
       "      <td>0</td>\n",
       "      <td>no</td>\n",
       "      <td>yes</td>\n",
       "      <td>yes</td>\n",
       "      <td>no</td>\n",
       "      <td>no</td>\n",
       "      <td>yes</td>\n",
       "      <td>yes</td>\n",
       "      <td>no</td>\n",
       "      <td>5</td>\n",
       "      <td>1</td>\n",
       "      <td>5</td>\n",
       "      <td>1</td>\n",
       "      <td>1</td>\n",
       "      <td>4</td>\n",
       "      <td>0</td>\n",
       "      <td>0</td>\n",
       "      <td>19.5</td>\n",
       "    </tr>\n",
       "    <tr>\n",
       "      <th>333</th>\n",
       "      <td>GP</td>\n",
       "      <td>F</td>\n",
       "      <td>18</td>\n",
       "      <td>U</td>\n",
       "      <td>LE3</td>\n",
       "      <td>T</td>\n",
       "      <td>2</td>\n",
       "      <td>2</td>\n",
       "      <td>other</td>\n",
       "      <td>other</td>\n",
       "      <td>home</td>\n",
       "      <td>other</td>\n",
       "      <td>1</td>\n",
       "      <td>2</td>\n",
       "      <td>0</td>\n",
       "      <td>no</td>\n",
       "      <td>no</td>\n",
       "      <td>no</td>\n",
       "      <td>yes</td>\n",
       "      <td>no</td>\n",
       "      <td>yes</td>\n",
       "      <td>yes</td>\n",
       "      <td>yes</td>\n",
       "      <td>4</td>\n",
       "      <td>3</td>\n",
       "      <td>3</td>\n",
       "      <td>1</td>\n",
       "      <td>1</td>\n",
       "      <td>2</td>\n",
       "      <td>0</td>\n",
       "      <td>0</td>\n",
       "      <td>19.5</td>\n",
       "    </tr>\n",
       "    <tr>\n",
       "      <th>332</th>\n",
       "      <td>GP</td>\n",
       "      <td>F</td>\n",
       "      <td>18</td>\n",
       "      <td>U</td>\n",
       "      <td>GT3</td>\n",
       "      <td>T</td>\n",
       "      <td>3</td>\n",
       "      <td>3</td>\n",
       "      <td>services</td>\n",
       "      <td>services</td>\n",
       "      <td>home</td>\n",
       "      <td>mother</td>\n",
       "      <td>1</td>\n",
       "      <td>2</td>\n",
       "      <td>0</td>\n",
       "      <td>no</td>\n",
       "      <td>no</td>\n",
       "      <td>no</td>\n",
       "      <td>yes</td>\n",
       "      <td>yes</td>\n",
       "      <td>yes</td>\n",
       "      <td>yes</td>\n",
       "      <td>no</td>\n",
       "      <td>5</td>\n",
       "      <td>3</td>\n",
       "      <td>4</td>\n",
       "      <td>1</td>\n",
       "      <td>1</td>\n",
       "      <td>4</td>\n",
       "      <td>0</td>\n",
       "      <td>0</td>\n",
       "      <td>19.5</td>\n",
       "    </tr>\n",
       "  </tbody>\n",
       "</table>\n",
       "</div>"
      ],
      "text/plain": [
       "    school sex  age address famsize Pstatus  Medu  Fedu      Mjob      Fjob  \\\n",
       "296     GP   F   19       U     GT3       T     4     4    health     other   \n",
       "144     GP   M   17       U     GT3       T     2     1     other     other   \n",
       "168     GP   F   16       U     GT3       T     2     2     other     other   \n",
       "333     GP   F   18       U     LE3       T     2     2     other     other   \n",
       "332     GP   F   18       U     GT3       T     3     3  services  services   \n",
       "\n",
       "         reason guardian  traveltime  studytime  failures schoolsup famsup  \\\n",
       "296  reputation    other           2          2         0        no    yes   \n",
       "144        home   mother           1          1         3        no    yes   \n",
       "168        home   mother           1          2         0        no    yes   \n",
       "333        home    other           1          2         0        no     no   \n",
       "332        home   mother           1          2         0        no     no   \n",
       "\n",
       "    paid activities nursery higher internet romantic  famrel  freetime  goout  \\\n",
       "296  yes        yes     yes    yes      yes       no       2         3      4   \n",
       "144   no         no     yes    yes      yes       no       5         4      5   \n",
       "168  yes         no      no    yes      yes       no       5         1      5   \n",
       "333   no        yes      no    yes      yes      yes       4         3      3   \n",
       "332   no        yes     yes    yes      yes       no       5         3      4   \n",
       "\n",
       "     Dalc  Walc  health  absences  G3  rank  \n",
       "296     2     3       2         0   0  19.5  \n",
       "144     1     2       5         0   0  19.5  \n",
       "168     1     1       4         0   0  19.5  \n",
       "333     1     1       2         0   0  19.5  \n",
       "332     1     1       4         0   0  19.5  "
      ]
     },
     "execution_count": 42,
     "metadata": {},
     "output_type": "execute_result"
    }
   ],
   "source": [
    "tmp = data.copy()\n",
    "tmp = tmp.sort_values(by=['G3'])\n",
    "ranked = rankdata(tmp['G3'])\n",
    "tmp['rank'] = ranked  \n",
    "tmp.head()"
   ]
  },
  {
   "cell_type": "markdown",
   "id": "60686df9-3ec4-4839-8566-be13a5e0a0c6",
   "metadata": {},
   "source": [
    "Let's print out the rank sums for the different discrete variables:"
   ]
  },
  {
   "cell_type": "code",
   "execution_count": 44,
   "id": "a19493a0-f351-45b3-b9af-f9ab51912613",
   "metadata": {},
   "outputs": [
    {
     "name": "stdout",
     "output_type": "stream",
     "text": [
      "age rank sums\n",
      "19: 3487.0\n",
      "17: 18921.5\n",
      "16: 22237.5\n",
      "18: 14486.5\n",
      "15: 18086.0\n",
      "21: 66.0\n",
      "22: 86.5\n",
      "20: 839.0\n",
      "\n",
      "Medu rank sums\n",
      "4: 30413.5\n",
      "2: 18919.5\n",
      "3: 19076.5\n",
      "1: 9006.0\n",
      "0: 794.5\n",
      "\n",
      "Fedu rank sums\n",
      "4: 21875.0\n",
      "1: 13430.5\n",
      "2: 22643.0\n",
      "3: 19739.5\n",
      "0: 522.0\n",
      "\n",
      "traveltime rank sums\n",
      "2: 19691.0\n",
      "1: 53348.0\n",
      "3: 4003.5\n",
      "4: 1167.5\n",
      "\n",
      "studytime rank sums\n",
      "2: 37368.5\n",
      "1: 20003.0\n",
      "3: 14798.0\n",
      "4: 6040.5\n",
      "\n",
      "failures rank sums\n",
      "0: 68187.5\n",
      "3: 1262.0\n",
      "1: 7098.5\n",
      "2: 1662.0\n",
      "\n",
      "famrel rank sums\n",
      "2: 3564.5\n",
      "5: 22312.0\n",
      "4: 37813.5\n",
      "3: 12782.5\n",
      "1: 1737.5\n",
      "\n",
      "freetime rank sums\n",
      "3: 28981.0\n",
      "4: 22514.5\n",
      "1: 3327.0\n",
      "2: 14686.0\n",
      "5: 8701.5\n",
      "\n",
      "goout rank sums\n",
      "4: 14926.0\n",
      "5: 8683.0\n",
      "3: 27274.5\n",
      "2: 22846.0\n",
      "1: 4480.5\n",
      "\n",
      "Dalc rank sums\n",
      "2: 12750.0\n",
      "1: 57306.5\n",
      "3: 4858.5\n",
      "5: 1797.0\n",
      "4: 1498.0\n",
      "\n",
      "Walc rank sums\n",
      "3: 15774.5\n",
      "2: 16944.0\n",
      "1: 31721.5\n",
      "5: 5146.0\n",
      "4: 8624.0\n",
      "\n",
      "health rank sums\n",
      "2: 8940.0\n",
      "5: 28960.5\n",
      "4: 12512.5\n",
      "3: 16739.5\n",
      "1: 11057.5\n",
      "\n"
     ]
    }
   ],
   "source": [
    "for feature in discrete_vars:\n",
    "    print(f'{feature} rank sums')\n",
    "    for category in list(tmp[feature].unique()):\n",
    "        rank_sum = tmp[tmp[feature]==category]['rank'].sum()\n",
    "        print(f'{category}: {rank_sum}')\n",
    "    print()"
   ]
  },
  {
   "cell_type": "markdown",
   "id": "4dc4baa7-b28d-42d3-9c1d-ff055c994664",
   "metadata": {},
   "source": [
    "We will determine the predictive association between these variables and the target in the feature selection notebook."
   ]
  },
  {
   "cell_type": "markdown",
   "id": "3765d480-86a3-4cdd-af90-6a078db0c1a3",
   "metadata": {},
   "source": [
    "## Continuous Variables\n",
    "\n",
    "Let's go ahead and find the distribution of the continuous variables. We will consider continuous variables to all those that are not discrete."
   ]
  },
  {
   "cell_type": "code",
   "execution_count": 45,
   "id": "dc0131bc-cff7-4aca-a69c-daa11491ee39",
   "metadata": {},
   "outputs": [],
   "source": [
    "cont_vars = [\n",
    "    var for var in num_vars if var not in discrete_vars\n",
    "]"
   ]
  },
  {
   "cell_type": "code",
   "execution_count": 46,
   "id": "4fec0e75-090b-4e21-853e-bac50332a63c",
   "metadata": {},
   "outputs": [
    {
     "name": "stdout",
     "output_type": "stream",
     "text": [
      "Number of continuous variables: 1\n"
     ]
    }
   ],
   "source": [
    "print(f'Number of continuous variables: {len(cont_vars)}')"
   ]
  },
  {
   "cell_type": "code",
   "execution_count": 47,
   "id": "9f39518d-0702-4c3b-9ac3-2a4fca8c8ff4",
   "metadata": {},
   "outputs": [
    {
     "data": {
      "text/html": [
       "<div>\n",
       "<style scoped>\n",
       "    .dataframe tbody tr th:only-of-type {\n",
       "        vertical-align: middle;\n",
       "    }\n",
       "\n",
       "    .dataframe tbody tr th {\n",
       "        vertical-align: top;\n",
       "    }\n",
       "\n",
       "    .dataframe thead th {\n",
       "        text-align: right;\n",
       "    }\n",
       "</style>\n",
       "<table border=\"1\" class=\"dataframe\">\n",
       "  <thead>\n",
       "    <tr style=\"text-align: right;\">\n",
       "      <th></th>\n",
       "      <th>absences</th>\n",
       "    </tr>\n",
       "  </thead>\n",
       "  <tbody>\n",
       "    <tr>\n",
       "      <th>0</th>\n",
       "      <td>6</td>\n",
       "    </tr>\n",
       "    <tr>\n",
       "      <th>1</th>\n",
       "      <td>4</td>\n",
       "    </tr>\n",
       "    <tr>\n",
       "      <th>2</th>\n",
       "      <td>10</td>\n",
       "    </tr>\n",
       "    <tr>\n",
       "      <th>3</th>\n",
       "      <td>2</td>\n",
       "    </tr>\n",
       "    <tr>\n",
       "      <th>4</th>\n",
       "      <td>4</td>\n",
       "    </tr>\n",
       "  </tbody>\n",
       "</table>\n",
       "</div>"
      ],
      "text/plain": [
       "   absences\n",
       "0         6\n",
       "1         4\n",
       "2        10\n",
       "3         2\n",
       "4         4"
      ]
     },
     "execution_count": 47,
     "metadata": {},
     "output_type": "execute_result"
    }
   ],
   "source": [
    "# visualise the continuous variables\n",
    "data[cont_vars].head()"
   ]
  },
  {
   "cell_type": "markdown",
   "id": "9623db8e-b3df-4e2d-a941-0637852cb1fb",
   "metadata": {},
   "source": [
    "Of all our numerical variables, only 1 happens to be continuous."
   ]
  },
  {
   "cell_type": "code",
   "execution_count": 48,
   "id": "1c91e64a-b802-4ed3-be62-7263674b9cb4",
   "metadata": {},
   "outputs": [
    {
     "data": {
      "text/plain": [
       "<AxesSubplot:xlabel='absences', ylabel='Count'>"
      ]
     },
     "execution_count": 48,
     "metadata": {},
     "output_type": "execute_result"
    },
    {
     "data": {
      "image/png": "[encoded data removed]",
      "text/plain": [
       "<Figure size 864x504 with 1 Axes>"
      ]
     },
     "metadata": {},
     "output_type": "display_data"
    }
   ],
   "source": [
    "# plot the histogram for the continuous variables\n",
    "plt.figure(figsize=(12,7))\n",
    "sns.histplot(x='absences',data=data,bins=30,color='green',kde=True)"
   ]
  },
  {
   "cell_type": "markdown",
   "id": "59a84fd4-5f08-46d6-a025-0021bde4a69e",
   "metadata": {},
   "source": [
    "Class absences do not follow a normal distribution. It is skewed towards people who are less absent as you move along the axis. The most common absences lie roughly between 0 and 5. Beyond that point, we start to approach outliers. We can say students are frequent for the most part.\n",
    "\n",
    "Let's see if there is a relationship between absences and grade performance."
   ]
  },
  {
   "cell_type": "code",
   "execution_count": 49,
   "id": "c9d633de-3788-4474-a9a3-587604371a4c",
   "metadata": {},
   "outputs": [
    {
     "data": {
      "text/plain": [
       "Text(0.5, 0, 'absences')"
      ]
     },
     "execution_count": 49,
     "metadata": {},
     "output_type": "execute_result"
    },
    {
     "data": {
      "image/png": "[encoded data removed]",
      "text/plain": [
       "<Figure size 504x360 with 1 Axes>"
      ]
     },
     "metadata": {},
     "output_type": "display_data"
    }
   ],
   "source": [
    "plt.figure(figsize=(7,5))\n",
    "plt.scatter(x='absences',y='G3',data=data)\n",
    "plt.ylabel('G3')\n",
    "plt.xlabel('absences')"
   ]
  },
  {
   "cell_type": "markdown",
   "id": "8f0732a2-7f2c-488d-9f23-4e83393d0527",
   "metadata": {},
   "source": [
    "There isn't a visible relationship between absences and performance but we notice absences are clustered between 0 and 30. A lot of students performed pretty well given their absences (if we consider 10.0 as a cut off for a passing grade). Their absences might not be extreme but they were considerable. \n",
    "\n",
    "There are even students with absences as high as 40 and 50 who still scored a little above the cut-off point. We reckon these students might have been absent for very strong reasons which may not be captured by the feature space. It also bears noting that the scores of the most absent student are clustered around the cut-off point. This could mean their learning was interrupted by external factors and they could have scored much higher if they had been present for much of the course.\n",
    "\n",
    "On the other hand, there are students with minimal absences (even zero in a few cases) who still failed the course. This trend is understandable considering attendance wouldn't nessecarily guarantee high performance. However, the reasons behind the performance could be cogent and would warrant further investigaton(i.e. learning difficulties, course material, concentration issues, study prioritisation, etc...).\n",
    "\n",
    "The overall trend is ironic when you consider that the course material is only taught in class in-person. Except the missed classes are supplemented elsewhere, it would take further investigation to understand why certain students with high absences still perform well and students with low absences do not."
   ]
  },
  {
   "cell_type": "markdown",
   "id": "fcd6835d-ae1a-403f-8386-e6705cda5c9a",
   "metadata": {
    "tags": []
   },
   "source": [
    "# Categorical Variables\n",
    "\n",
    "Let's go ahead and analyse the categorical variables present in the dataset."
   ]
  },
  {
   "cell_type": "code",
   "execution_count": 50,
   "id": "14c3d1bd-d474-47b6-aaac-cf37b25c2cee",
   "metadata": {},
   "outputs": [
    {
     "name": "stdout",
     "output_type": "stream",
     "text": [
      "Number of categorical variables: 17\n"
     ]
    }
   ],
   "source": [
    "print(f'Number of categorical variables: {len(cat_vars)}')"
   ]
  },
  {
   "cell_type": "code",
   "execution_count": 51,
   "id": "88f820f9-357f-40a8-a35a-9398a0be5fcb",
   "metadata": {},
   "outputs": [
    {
     "data": {
      "text/html": [
       "<div>\n",
       "<style scoped>\n",
       "    .dataframe tbody tr th:only-of-type {\n",
       "        vertical-align: middle;\n",
       "    }\n",
       "\n",
       "    .dataframe tbody tr th {\n",
       "        vertical-align: top;\n",
       "    }\n",
       "\n",
       "    .dataframe thead th {\n",
       "        text-align: right;\n",
       "    }\n",
       "</style>\n",
       "<table border=\"1\" class=\"dataframe\">\n",
       "  <thead>\n",
       "    <tr style=\"text-align: right;\">\n",
       "      <th></th>\n",
       "      <th>school</th>\n",
       "      <th>sex</th>\n",
       "      <th>address</th>\n",
       "      <th>famsize</th>\n",
       "      <th>Pstatus</th>\n",
       "      <th>Mjob</th>\n",
       "      <th>Fjob</th>\n",
       "      <th>reason</th>\n",
       "      <th>guardian</th>\n",
       "      <th>schoolsup</th>\n",
       "      <th>famsup</th>\n",
       "      <th>paid</th>\n",
       "      <th>activities</th>\n",
       "      <th>nursery</th>\n",
       "      <th>higher</th>\n",
       "      <th>internet</th>\n",
       "      <th>romantic</th>\n",
       "    </tr>\n",
       "  </thead>\n",
       "  <tbody>\n",
       "    <tr>\n",
       "      <th>0</th>\n",
       "      <td>GP</td>\n",
       "      <td>F</td>\n",
       "      <td>U</td>\n",
       "      <td>GT3</td>\n",
       "      <td>A</td>\n",
       "      <td>at_home</td>\n",
       "      <td>teacher</td>\n",
       "      <td>course</td>\n",
       "      <td>mother</td>\n",
       "      <td>yes</td>\n",
       "      <td>no</td>\n",
       "      <td>no</td>\n",
       "      <td>no</td>\n",
       "      <td>yes</td>\n",
       "      <td>yes</td>\n",
       "      <td>no</td>\n",
       "      <td>no</td>\n",
       "    </tr>\n",
       "    <tr>\n",
       "      <th>1</th>\n",
       "      <td>GP</td>\n",
       "      <td>F</td>\n",
       "      <td>U</td>\n",
       "      <td>GT3</td>\n",
       "      <td>T</td>\n",
       "      <td>at_home</td>\n",
       "      <td>other</td>\n",
       "      <td>course</td>\n",
       "      <td>father</td>\n",
       "      <td>no</td>\n",
       "      <td>yes</td>\n",
       "      <td>no</td>\n",
       "      <td>no</td>\n",
       "      <td>no</td>\n",
       "      <td>yes</td>\n",
       "      <td>yes</td>\n",
       "      <td>no</td>\n",
       "    </tr>\n",
       "    <tr>\n",
       "      <th>2</th>\n",
       "      <td>GP</td>\n",
       "      <td>F</td>\n",
       "      <td>U</td>\n",
       "      <td>LE3</td>\n",
       "      <td>T</td>\n",
       "      <td>at_home</td>\n",
       "      <td>other</td>\n",
       "      <td>other</td>\n",
       "      <td>mother</td>\n",
       "      <td>yes</td>\n",
       "      <td>no</td>\n",
       "      <td>yes</td>\n",
       "      <td>no</td>\n",
       "      <td>yes</td>\n",
       "      <td>yes</td>\n",
       "      <td>yes</td>\n",
       "      <td>no</td>\n",
       "    </tr>\n",
       "    <tr>\n",
       "      <th>3</th>\n",
       "      <td>GP</td>\n",
       "      <td>F</td>\n",
       "      <td>U</td>\n",
       "      <td>GT3</td>\n",
       "      <td>T</td>\n",
       "      <td>health</td>\n",
       "      <td>services</td>\n",
       "      <td>home</td>\n",
       "      <td>mother</td>\n",
       "      <td>no</td>\n",
       "      <td>yes</td>\n",
       "      <td>yes</td>\n",
       "      <td>yes</td>\n",
       "      <td>yes</td>\n",
       "      <td>yes</td>\n",
       "      <td>yes</td>\n",
       "      <td>yes</td>\n",
       "    </tr>\n",
       "    <tr>\n",
       "      <th>4</th>\n",
       "      <td>GP</td>\n",
       "      <td>F</td>\n",
       "      <td>U</td>\n",
       "      <td>GT3</td>\n",
       "      <td>T</td>\n",
       "      <td>other</td>\n",
       "      <td>other</td>\n",
       "      <td>home</td>\n",
       "      <td>father</td>\n",
       "      <td>no</td>\n",
       "      <td>yes</td>\n",
       "      <td>yes</td>\n",
       "      <td>no</td>\n",
       "      <td>yes</td>\n",
       "      <td>yes</td>\n",
       "      <td>no</td>\n",
       "      <td>no</td>\n",
       "    </tr>\n",
       "  </tbody>\n",
       "</table>\n",
       "</div>"
      ],
      "text/plain": [
       "  school sex address famsize Pstatus     Mjob      Fjob  reason guardian  \\\n",
       "0     GP   F       U     GT3       A  at_home   teacher  course   mother   \n",
       "1     GP   F       U     GT3       T  at_home     other  course   father   \n",
       "2     GP   F       U     LE3       T  at_home     other   other   mother   \n",
       "3     GP   F       U     GT3       T   health  services    home   mother   \n",
       "4     GP   F       U     GT3       T    other     other    home   father   \n",
       "\n",
       "  schoolsup famsup paid activities nursery higher internet romantic  \n",
       "0       yes     no   no         no     yes    yes       no       no  \n",
       "1        no    yes   no         no      no    yes      yes       no  \n",
       "2       yes     no  yes         no     yes    yes      yes       no  \n",
       "3        no    yes  yes        yes     yes    yes      yes      yes  \n",
       "4        no    yes  yes         no     yes    yes       no       no  "
      ]
     },
     "execution_count": 51,
     "metadata": {},
     "output_type": "execute_result"
    }
   ],
   "source": [
    "# visualise the values of the categorical variables\n",
    "data[cat_vars].head()"
   ]
  },
  {
   "cell_type": "markdown",
   "id": "8c0b83ac-26c8-4a24-b447-75991e646846",
   "metadata": {},
   "source": [
    "Let's grab the rank sums of the categorical features."
   ]
  },
  {
   "cell_type": "code",
   "execution_count": 52,
   "id": "ccd798e9-6c71-4e99-ab5d-9a44a3cdf334",
   "metadata": {},
   "outputs": [
    {
     "name": "stdout",
     "output_type": "stream",
     "text": [
      "school rank sums\n",
      "GP: 70031.0\n",
      "MS: 8179.0\n",
      "\n",
      "sex rank sums\n",
      "F: 38874.0\n",
      "M: 39336.0\n",
      "\n",
      "address rank sums\n",
      "U: 63015.5\n",
      "R: 15194.5\n",
      "\n",
      "famsize rank sums\n",
      "GT3: 54291.0\n",
      "LE3: 23919.0\n",
      "\n",
      "Pstatus rank sums\n",
      "T: 69486.5\n",
      "A: 8723.5\n",
      "\n",
      "Mjob rank sums\n",
      "health: 8394.0\n",
      "other: 25751.0\n",
      "services: 22092.5\n",
      "teacher: 12146.0\n",
      "at_home: 9826.5\n",
      "\n",
      "Fjob rank sums\n",
      "other: 41640.5\n",
      "services: 21592.5\n",
      "teacher: 7120.0\n",
      "at_home: 3958.5\n",
      "health: 3898.5\n",
      "\n",
      "reason rank sums\n",
      "reputation: 22606.5\n",
      "home: 21189.0\n",
      "course: 26832.0\n",
      "other: 7582.5\n",
      "\n",
      "guardian rank sums\n",
      "other: 5168.0\n",
      "mother: 54489.5\n",
      "father: 18552.5\n",
      "\n",
      "schoolsup rank sums\n",
      "no: 70377.0\n",
      "yes: 7833.0\n",
      "\n",
      "famsup rank sums\n",
      "yes: 46813.0\n",
      "no: 31397.0\n",
      "\n",
      "paid rank sums\n",
      "yes: 37199.5\n",
      "no: 41010.5\n",
      "\n",
      "activities rank sums\n",
      "yes: 40383.0\n",
      "no: 37827.0\n",
      "\n",
      "nursery rank sums\n",
      "yes: 62747.0\n",
      "no: 15463.0\n",
      "\n",
      "higher rank sums\n",
      "yes: 75945.5\n",
      "no: 2264.5\n",
      "\n",
      "internet rank sums\n",
      "yes: 66946.0\n",
      "no: 11264.0\n",
      "\n",
      "romantic rank sums\n",
      "no: 54009.0\n",
      "yes: 24201.0\n",
      "\n"
     ]
    }
   ],
   "source": [
    "for feature in cat_vars:\n",
    "    print(f'{feature} rank sums')\n",
    "    for category in list(tmp[feature].unique()):\n",
    "        rank_sum = tmp[tmp[feature]==category]['rank'].sum()\n",
    "        print(f'{category}: {rank_sum}')\n",
    "    print()"
   ]
  },
  {
   "cell_type": "markdown",
   "id": "35b31653-9cbf-409a-8ccb-a17fbc406cf8",
   "metadata": {},
   "source": [
    "We will also determine the predictive association between these variables and the target in the feature selection notebook."
   ]
  },
  {
   "cell_type": "markdown",
   "id": "ba0e1c25-078c-44b1-8d61-9d1133803865",
   "metadata": {},
   "source": [
    "## Number of labels: cardinality"
   ]
  },
  {
   "cell_type": "markdown",
   "id": "7ff46771-d1bc-4e82-80a5-e7f4e02c3d51",
   "metadata": {},
   "source": [
    "Let's evaluate how many different categories are present in each of the variables."
   ]
  },
  {
   "cell_type": "code",
   "execution_count": 53,
   "id": "d3a72338-aa49-47a1-a17b-9818a9c08401",
   "metadata": {},
   "outputs": [
    {
     "data": {
      "text/plain": [
       "<AxesSubplot:>"
      ]
     },
     "execution_count": 53,
     "metadata": {},
     "output_type": "execute_result"
    },
    {
     "data": {
      "image/png": "[encoded data removed]",
      "text/plain": [
       "<Figure size 864x360 with 1 Axes>"
      ]
     },
     "metadata": {},
     "output_type": "display_data"
    }
   ],
   "source": [
    "data[cat_vars].nunique().sort_values(ascending=False).plot.bar(figsize=(12,5))"
   ]
  },
  {
   "cell_type": "code",
   "execution_count": 54,
   "id": "7b4d1553-2441-4983-bfc5-23923fc71cd4",
   "metadata": {},
   "outputs": [
    {
     "name": "stdout",
     "output_type": "stream",
     "text": [
      "school: 2\n",
      "sex: 2\n",
      "address: 2\n",
      "famsize: 2\n",
      "Pstatus: 2\n",
      "Mjob: 5\n",
      "Fjob: 5\n",
      "reason: 4\n",
      "guardian: 3\n",
      "schoolsup: 2\n",
      "famsup: 2\n",
      "paid: 2\n",
      "activities: 2\n",
      "nursery: 2\n",
      "higher: 2\n",
      "internet: 2\n",
      "romantic: 2\n"
     ]
    }
   ],
   "source": [
    "for var in cat_vars:\n",
    "    print(f'{var}: {data[var].nunique()}')"
   ]
  },
  {
   "cell_type": "markdown",
   "id": "31bd550d-5e10-449b-86e3-febd6b0efa01",
   "metadata": {},
   "source": [
    "All the categorical variables show low cardinality i.e. only few different labels. This means we won't need to tackle cardinality in our feature engineering notebook."
   ]
  },
  {
   "cell_type": "markdown",
   "id": "94108abc-4d80-40ec-8d02-f040cdf84cf1",
   "metadata": {},
   "source": [
    "## Rare Labels\n",
    "\n",
    "Let's investigate labels present in only a small number of the samples."
   ]
  },
  {
   "cell_type": "code",
   "execution_count": 55,
   "id": "ba3bbbf3-8c44-43d5-8331-af3bf99f9ee8",
   "metadata": {},
   "outputs": [],
   "source": [
    "def analyse_rare_labels(df, var, rare_perc):\n",
    "    df = df.copy()\n",
    "    \n",
    "    # determine the % of observations per category\n",
    "    tmp = df.groupby(var)['G3'].count() / len(df)\n",
    "    \n",
    "    # return categories that are rare\n",
    "    return tmp[tmp < rare_perc]"
   ]
  },
  {
   "cell_type": "code",
   "execution_count": 56,
   "id": "1a13bf71-3977-4209-bc69-9226982f6ba1",
   "metadata": {},
   "outputs": [
    {
     "name": "stdout",
     "output_type": "stream",
     "text": [
      "Series([], Name: G3, dtype: float64)\n",
      "\n",
      "Series([], Name: G3, dtype: float64)\n",
      "\n",
      "Series([], Name: G3, dtype: float64)\n",
      "\n",
      "Series([], Name: G3, dtype: float64)\n",
      "\n",
      "Series([], Name: G3, dtype: float64)\n",
      "\n",
      "Series([], Name: G3, dtype: float64)\n",
      "\n",
      "Series([], Name: G3, dtype: float64)\n",
      "\n",
      "Series([], Name: G3, dtype: float64)\n",
      "\n",
      "Series([], Name: G3, dtype: float64)\n",
      "\n",
      "Series([], Name: G3, dtype: float64)\n",
      "\n",
      "Series([], Name: G3, dtype: float64)\n",
      "\n",
      "Series([], Name: G3, dtype: float64)\n",
      "\n",
      "Series([], Name: G3, dtype: float64)\n",
      "\n",
      "Series([], Name: G3, dtype: float64)\n",
      "\n",
      "Series([], Name: G3, dtype: float64)\n",
      "\n",
      "Series([], Name: G3, dtype: float64)\n",
      "\n",
      "Series([], Name: G3, dtype: float64)\n",
      "\n"
     ]
    }
   ],
   "source": [
    "# print categories present in less than\n",
    "# 1% of the observations\n",
    "\n",
    "for var in cat_vars:\n",
    "    print(analyse_rare_labels(data, var, 0.01))\n",
    "    print()"
   ]
  },
  {
   "cell_type": "markdown",
   "id": "adb756d0-e802-4c86-a387-f22c9fa41980",
   "metadata": {},
   "source": [
    "All our categorical variables have no rare labels."
   ]
  },
  {
   "cell_type": "code",
   "execution_count": null,
   "id": "775a27ee-ed78-4400-a5ab-3e0bfe87c7db",
   "metadata": {},
   "outputs": [],
   "source": []
  }
 ],
 "metadata": {
  "kernelspec": {
   "display_name": "Python 3 (ipykernel)",
   "language": "python",
   "name": "python3"
  },
  "language_info": {
   "codemirror_mode": {
    "name": "ipython",
    "version": 3
   },
   "file_extension": ".py",
   "mimetype": "text/x-python",
   "name": "python",
   "nbconvert_exporter": "python",
   "pygments_lexer": "ipython3",
   "version": "3.9.7"
  }
 },
 "nbformat": 4,
 "nbformat_minor": 5
}
